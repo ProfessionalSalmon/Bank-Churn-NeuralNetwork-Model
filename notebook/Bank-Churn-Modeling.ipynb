{
  "cells": [
    {
      "cell_type": "markdown",
      "metadata": {
        "id": "aeAmfXUPmS9K"
      },
      "source": [
        "# Bank Churn Neural Network Model"
      ]
    },
    {
      "cell_type": "code",
      "execution_count": 686,
      "metadata": {
        "id": "QlgQPDosICU1"
      },
      "outputs": [
        {
          "data": {
            "text/plain": [
              "<torch._C.Generator at 0x2156d0861d0>"
            ]
          },
          "execution_count": 686,
          "metadata": {},
          "output_type": "execute_result"
        }
      ],
      "source": [
        "import pandas as pd\n",
        "import matplotlib.pyplot as plt\n",
        "import seaborn as sns\n",
        "import numpy as np\n",
        "\n",
        "from sklearn.preprocessing import StandardScaler\n",
        "from sklearn.model_selection import train_test_split\n",
        "from sklearn.metrics import confusion_matrix, classification_report, precision_recall_curve, auc\n",
        "\n",
        "from imblearn.over_sampling import SMOTE\n",
        "\n",
        "import torch\n",
        "from torch.utils.data import TensorDataset, DataLoader, random_split\n",
        "import torch.nn as nn\n",
        "import torch.optim as optim\n",
        "\n",
        "seed = 42\n",
        "np.random.seed(seed)\n",
        "torch.manual_seed(seed)"
      ]
    },
    {
      "cell_type": "markdown",
      "metadata": {
        "id": "jh4PAbfsmS9V"
      },
      "source": [
        "## Data Preprocessing"
      ]
    },
    {
      "cell_type": "code",
      "execution_count": 687,
      "metadata": {
        "colab": {
          "base_uri": "https://localhost:8080/",
          "height": 206
        },
        "id": "5BL7bHeIIWVQ",
        "outputId": "2a2bd729-ebd6-48a8-b8a2-4da96fb57f00"
      },
      "outputs": [
        {
          "data": {
            "text/html": [
              "<div>\n",
              "<style scoped>\n",
              "    .dataframe tbody tr th:only-of-type {\n",
              "        vertical-align: middle;\n",
              "    }\n",
              "\n",
              "    .dataframe tbody tr th {\n",
              "        vertical-align: top;\n",
              "    }\n",
              "\n",
              "    .dataframe thead th {\n",
              "        text-align: right;\n",
              "    }\n",
              "</style>\n",
              "<table border=\"1\" class=\"dataframe\">\n",
              "  <thead>\n",
              "    <tr style=\"text-align: right;\">\n",
              "      <th></th>\n",
              "      <th>RowNumber</th>\n",
              "      <th>CustomerId</th>\n",
              "      <th>Surname</th>\n",
              "      <th>CreditScore</th>\n",
              "      <th>Geography</th>\n",
              "      <th>Gender</th>\n",
              "      <th>Age</th>\n",
              "      <th>Tenure</th>\n",
              "      <th>Balance</th>\n",
              "      <th>NumOfProducts</th>\n",
              "      <th>HasCrCard</th>\n",
              "      <th>IsActiveMember</th>\n",
              "      <th>EstimatedSalary</th>\n",
              "      <th>Exited</th>\n",
              "    </tr>\n",
              "  </thead>\n",
              "  <tbody>\n",
              "    <tr>\n",
              "      <th>0</th>\n",
              "      <td>1</td>\n",
              "      <td>15634602</td>\n",
              "      <td>Hargrave</td>\n",
              "      <td>619</td>\n",
              "      <td>France</td>\n",
              "      <td>Female</td>\n",
              "      <td>42</td>\n",
              "      <td>2</td>\n",
              "      <td>0.00</td>\n",
              "      <td>1</td>\n",
              "      <td>1</td>\n",
              "      <td>1</td>\n",
              "      <td>101348.88</td>\n",
              "      <td>1</td>\n",
              "    </tr>\n",
              "    <tr>\n",
              "      <th>1</th>\n",
              "      <td>2</td>\n",
              "      <td>15647311</td>\n",
              "      <td>Hill</td>\n",
              "      <td>608</td>\n",
              "      <td>Spain</td>\n",
              "      <td>Female</td>\n",
              "      <td>41</td>\n",
              "      <td>1</td>\n",
              "      <td>83807.86</td>\n",
              "      <td>1</td>\n",
              "      <td>0</td>\n",
              "      <td>1</td>\n",
              "      <td>112542.58</td>\n",
              "      <td>0</td>\n",
              "    </tr>\n",
              "    <tr>\n",
              "      <th>2</th>\n",
              "      <td>3</td>\n",
              "      <td>15619304</td>\n",
              "      <td>Onio</td>\n",
              "      <td>502</td>\n",
              "      <td>France</td>\n",
              "      <td>Female</td>\n",
              "      <td>42</td>\n",
              "      <td>8</td>\n",
              "      <td>159660.80</td>\n",
              "      <td>3</td>\n",
              "      <td>1</td>\n",
              "      <td>0</td>\n",
              "      <td>113931.57</td>\n",
              "      <td>1</td>\n",
              "    </tr>\n",
              "    <tr>\n",
              "      <th>3</th>\n",
              "      <td>4</td>\n",
              "      <td>15701354</td>\n",
              "      <td>Boni</td>\n",
              "      <td>699</td>\n",
              "      <td>France</td>\n",
              "      <td>Female</td>\n",
              "      <td>39</td>\n",
              "      <td>1</td>\n",
              "      <td>0.00</td>\n",
              "      <td>2</td>\n",
              "      <td>0</td>\n",
              "      <td>0</td>\n",
              "      <td>93826.63</td>\n",
              "      <td>0</td>\n",
              "    </tr>\n",
              "    <tr>\n",
              "      <th>4</th>\n",
              "      <td>5</td>\n",
              "      <td>15737888</td>\n",
              "      <td>Mitchell</td>\n",
              "      <td>850</td>\n",
              "      <td>Spain</td>\n",
              "      <td>Female</td>\n",
              "      <td>43</td>\n",
              "      <td>2</td>\n",
              "      <td>125510.82</td>\n",
              "      <td>1</td>\n",
              "      <td>1</td>\n",
              "      <td>1</td>\n",
              "      <td>79084.10</td>\n",
              "      <td>0</td>\n",
              "    </tr>\n",
              "  </tbody>\n",
              "</table>\n",
              "</div>"
            ],
            "text/plain": [
              "   RowNumber  CustomerId   Surname  CreditScore Geography  Gender  Age  \\\n",
              "0          1    15634602  Hargrave          619    France  Female   42   \n",
              "1          2    15647311      Hill          608     Spain  Female   41   \n",
              "2          3    15619304      Onio          502    France  Female   42   \n",
              "3          4    15701354      Boni          699    France  Female   39   \n",
              "4          5    15737888  Mitchell          850     Spain  Female   43   \n",
              "\n",
              "   Tenure    Balance  NumOfProducts  HasCrCard  IsActiveMember  \\\n",
              "0       2       0.00              1          1               1   \n",
              "1       1   83807.86              1          0               1   \n",
              "2       8  159660.80              3          1               0   \n",
              "3       1       0.00              2          0               0   \n",
              "4       2  125510.82              1          1               1   \n",
              "\n",
              "   EstimatedSalary  Exited  \n",
              "0        101348.88       1  \n",
              "1        112542.58       0  \n",
              "2        113931.57       1  \n",
              "3         93826.63       0  \n",
              "4         79084.10       0  "
            ]
          },
          "execution_count": 687,
          "metadata": {},
          "output_type": "execute_result"
        }
      ],
      "source": [
        "df = pd.read_csv('../content/Churn_Modelling.csv')\n",
        "df.head()"
      ]
    },
    {
      "cell_type": "code",
      "execution_count": 688,
      "metadata": {
        "colab": {
          "base_uri": "https://localhost:8080/"
        },
        "id": "r1CKQ0giJ7y_",
        "outputId": "e08b5e83-386d-4509-ab79-6e3ae7df8efc"
      },
      "outputs": [
        {
          "name": "stdout",
          "output_type": "stream",
          "text": [
            "<class 'pandas.core.frame.DataFrame'>\n",
            "RangeIndex: 10000 entries, 0 to 9999\n",
            "Data columns (total 14 columns):\n",
            " #   Column           Non-Null Count  Dtype  \n",
            "---  ------           --------------  -----  \n",
            " 0   RowNumber        10000 non-null  int64  \n",
            " 1   CustomerId       10000 non-null  int64  \n",
            " 2   Surname          10000 non-null  object \n",
            " 3   CreditScore      10000 non-null  int64  \n",
            " 4   Geography        10000 non-null  object \n",
            " 5   Gender           10000 non-null  object \n",
            " 6   Age              10000 non-null  int64  \n",
            " 7   Tenure           10000 non-null  int64  \n",
            " 8   Balance          10000 non-null  float64\n",
            " 9   NumOfProducts    10000 non-null  int64  \n",
            " 10  HasCrCard        10000 non-null  int64  \n",
            " 11  IsActiveMember   10000 non-null  int64  \n",
            " 12  EstimatedSalary  10000 non-null  float64\n",
            " 13  Exited           10000 non-null  int64  \n",
            "dtypes: float64(2), int64(9), object(3)\n",
            "memory usage: 1.1+ MB\n"
          ]
        }
      ],
      "source": [
        "df.info()"
      ]
    },
    {
      "cell_type": "code",
      "execution_count": 689,
      "metadata": {
        "colab": {
          "base_uri": "https://localhost:8080/"
        },
        "id": "N0s4084IKHqW",
        "outputId": "0eb35b1b-3890-4f6c-e02d-98864b52ea20"
      },
      "outputs": [
        {
          "data": {
            "text/plain": [
              "np.int64(0)"
            ]
          },
          "execution_count": 689,
          "metadata": {},
          "output_type": "execute_result"
        }
      ],
      "source": [
        "df.duplicated().sum()"
      ]
    },
    {
      "cell_type": "code",
      "execution_count": 690,
      "metadata": {
        "colab": {
          "base_uri": "https://localhost:8080/",
          "height": 300
        },
        "id": "vtPsUd9jKLCV",
        "outputId": "10ba7976-3fb0-4082-e5d8-9fbf66e4d947"
      },
      "outputs": [
        {
          "data": {
            "text/html": [
              "<div>\n",
              "<style scoped>\n",
              "    .dataframe tbody tr th:only-of-type {\n",
              "        vertical-align: middle;\n",
              "    }\n",
              "\n",
              "    .dataframe tbody tr th {\n",
              "        vertical-align: top;\n",
              "    }\n",
              "\n",
              "    .dataframe thead th {\n",
              "        text-align: right;\n",
              "    }\n",
              "</style>\n",
              "<table border=\"1\" class=\"dataframe\">\n",
              "  <thead>\n",
              "    <tr style=\"text-align: right;\">\n",
              "      <th></th>\n",
              "      <th>RowNumber</th>\n",
              "      <th>CustomerId</th>\n",
              "      <th>CreditScore</th>\n",
              "      <th>Age</th>\n",
              "      <th>Tenure</th>\n",
              "      <th>Balance</th>\n",
              "      <th>NumOfProducts</th>\n",
              "      <th>HasCrCard</th>\n",
              "      <th>IsActiveMember</th>\n",
              "      <th>EstimatedSalary</th>\n",
              "      <th>Exited</th>\n",
              "    </tr>\n",
              "  </thead>\n",
              "  <tbody>\n",
              "    <tr>\n",
              "      <th>count</th>\n",
              "      <td>10000.00000</td>\n",
              "      <td>1.000000e+04</td>\n",
              "      <td>10000.000000</td>\n",
              "      <td>10000.000000</td>\n",
              "      <td>10000.000000</td>\n",
              "      <td>10000.000000</td>\n",
              "      <td>10000.000000</td>\n",
              "      <td>10000.00000</td>\n",
              "      <td>10000.000000</td>\n",
              "      <td>10000.000000</td>\n",
              "      <td>10000.000000</td>\n",
              "    </tr>\n",
              "    <tr>\n",
              "      <th>mean</th>\n",
              "      <td>5000.50000</td>\n",
              "      <td>1.569094e+07</td>\n",
              "      <td>650.528800</td>\n",
              "      <td>38.921800</td>\n",
              "      <td>5.012800</td>\n",
              "      <td>76485.889288</td>\n",
              "      <td>1.530200</td>\n",
              "      <td>0.70550</td>\n",
              "      <td>0.515100</td>\n",
              "      <td>100090.239881</td>\n",
              "      <td>0.203700</td>\n",
              "    </tr>\n",
              "    <tr>\n",
              "      <th>std</th>\n",
              "      <td>2886.89568</td>\n",
              "      <td>7.193619e+04</td>\n",
              "      <td>96.653299</td>\n",
              "      <td>10.487806</td>\n",
              "      <td>2.892174</td>\n",
              "      <td>62397.405202</td>\n",
              "      <td>0.581654</td>\n",
              "      <td>0.45584</td>\n",
              "      <td>0.499797</td>\n",
              "      <td>57510.492818</td>\n",
              "      <td>0.402769</td>\n",
              "    </tr>\n",
              "    <tr>\n",
              "      <th>min</th>\n",
              "      <td>1.00000</td>\n",
              "      <td>1.556570e+07</td>\n",
              "      <td>350.000000</td>\n",
              "      <td>18.000000</td>\n",
              "      <td>0.000000</td>\n",
              "      <td>0.000000</td>\n",
              "      <td>1.000000</td>\n",
              "      <td>0.00000</td>\n",
              "      <td>0.000000</td>\n",
              "      <td>11.580000</td>\n",
              "      <td>0.000000</td>\n",
              "    </tr>\n",
              "    <tr>\n",
              "      <th>25%</th>\n",
              "      <td>2500.75000</td>\n",
              "      <td>1.562853e+07</td>\n",
              "      <td>584.000000</td>\n",
              "      <td>32.000000</td>\n",
              "      <td>3.000000</td>\n",
              "      <td>0.000000</td>\n",
              "      <td>1.000000</td>\n",
              "      <td>0.00000</td>\n",
              "      <td>0.000000</td>\n",
              "      <td>51002.110000</td>\n",
              "      <td>0.000000</td>\n",
              "    </tr>\n",
              "    <tr>\n",
              "      <th>50%</th>\n",
              "      <td>5000.50000</td>\n",
              "      <td>1.569074e+07</td>\n",
              "      <td>652.000000</td>\n",
              "      <td>37.000000</td>\n",
              "      <td>5.000000</td>\n",
              "      <td>97198.540000</td>\n",
              "      <td>1.000000</td>\n",
              "      <td>1.00000</td>\n",
              "      <td>1.000000</td>\n",
              "      <td>100193.915000</td>\n",
              "      <td>0.000000</td>\n",
              "    </tr>\n",
              "    <tr>\n",
              "      <th>75%</th>\n",
              "      <td>7500.25000</td>\n",
              "      <td>1.575323e+07</td>\n",
              "      <td>718.000000</td>\n",
              "      <td>44.000000</td>\n",
              "      <td>7.000000</td>\n",
              "      <td>127644.240000</td>\n",
              "      <td>2.000000</td>\n",
              "      <td>1.00000</td>\n",
              "      <td>1.000000</td>\n",
              "      <td>149388.247500</td>\n",
              "      <td>0.000000</td>\n",
              "    </tr>\n",
              "    <tr>\n",
              "      <th>max</th>\n",
              "      <td>10000.00000</td>\n",
              "      <td>1.581569e+07</td>\n",
              "      <td>850.000000</td>\n",
              "      <td>92.000000</td>\n",
              "      <td>10.000000</td>\n",
              "      <td>250898.090000</td>\n",
              "      <td>4.000000</td>\n",
              "      <td>1.00000</td>\n",
              "      <td>1.000000</td>\n",
              "      <td>199992.480000</td>\n",
              "      <td>1.000000</td>\n",
              "    </tr>\n",
              "  </tbody>\n",
              "</table>\n",
              "</div>"
            ],
            "text/plain": [
              "         RowNumber    CustomerId   CreditScore           Age        Tenure  \\\n",
              "count  10000.00000  1.000000e+04  10000.000000  10000.000000  10000.000000   \n",
              "mean    5000.50000  1.569094e+07    650.528800     38.921800      5.012800   \n",
              "std     2886.89568  7.193619e+04     96.653299     10.487806      2.892174   \n",
              "min        1.00000  1.556570e+07    350.000000     18.000000      0.000000   \n",
              "25%     2500.75000  1.562853e+07    584.000000     32.000000      3.000000   \n",
              "50%     5000.50000  1.569074e+07    652.000000     37.000000      5.000000   \n",
              "75%     7500.25000  1.575323e+07    718.000000     44.000000      7.000000   \n",
              "max    10000.00000  1.581569e+07    850.000000     92.000000     10.000000   \n",
              "\n",
              "             Balance  NumOfProducts    HasCrCard  IsActiveMember  \\\n",
              "count   10000.000000   10000.000000  10000.00000    10000.000000   \n",
              "mean    76485.889288       1.530200      0.70550        0.515100   \n",
              "std     62397.405202       0.581654      0.45584        0.499797   \n",
              "min         0.000000       1.000000      0.00000        0.000000   \n",
              "25%         0.000000       1.000000      0.00000        0.000000   \n",
              "50%     97198.540000       1.000000      1.00000        1.000000   \n",
              "75%    127644.240000       2.000000      1.00000        1.000000   \n",
              "max    250898.090000       4.000000      1.00000        1.000000   \n",
              "\n",
              "       EstimatedSalary        Exited  \n",
              "count     10000.000000  10000.000000  \n",
              "mean     100090.239881      0.203700  \n",
              "std       57510.492818      0.402769  \n",
              "min          11.580000      0.000000  \n",
              "25%       51002.110000      0.000000  \n",
              "50%      100193.915000      0.000000  \n",
              "75%      149388.247500      0.000000  \n",
              "max      199992.480000      1.000000  "
            ]
          },
          "execution_count": 690,
          "metadata": {},
          "output_type": "execute_result"
        }
      ],
      "source": [
        "df.describe()"
      ]
    },
    {
      "cell_type": "code",
      "execution_count": 691,
      "metadata": {
        "colab": {
          "base_uri": "https://localhost:8080/",
          "height": 53
        },
        "id": "ZGV8JS6yKPlS",
        "outputId": "d40093a2-ff10-43f9-bed0-e7d84ef38b3c"
      },
      "outputs": [
        {
          "data": {
            "text/html": [
              "<div>\n",
              "<style scoped>\n",
              "    .dataframe tbody tr th:only-of-type {\n",
              "        vertical-align: middle;\n",
              "    }\n",
              "\n",
              "    .dataframe tbody tr th {\n",
              "        vertical-align: top;\n",
              "    }\n",
              "\n",
              "    .dataframe thead th {\n",
              "        text-align: right;\n",
              "    }\n",
              "</style>\n",
              "<table border=\"1\" class=\"dataframe\">\n",
              "  <thead>\n",
              "    <tr style=\"text-align: right;\">\n",
              "      <th></th>\n",
              "      <th>RowNumber</th>\n",
              "      <th>CustomerId</th>\n",
              "      <th>Surname</th>\n",
              "      <th>CreditScore</th>\n",
              "      <th>Geography</th>\n",
              "      <th>Gender</th>\n",
              "      <th>Age</th>\n",
              "      <th>Tenure</th>\n",
              "      <th>Balance</th>\n",
              "      <th>NumOfProducts</th>\n",
              "      <th>HasCrCard</th>\n",
              "      <th>IsActiveMember</th>\n",
              "      <th>EstimatedSalary</th>\n",
              "      <th>Exited</th>\n",
              "    </tr>\n",
              "  </thead>\n",
              "  <tbody>\n",
              "  </tbody>\n",
              "</table>\n",
              "</div>"
            ],
            "text/plain": [
              "Empty DataFrame\n",
              "Columns: [RowNumber, CustomerId, Surname, CreditScore, Geography, Gender, Age, Tenure, Balance, NumOfProducts, HasCrCard, IsActiveMember, EstimatedSalary, Exited]\n",
              "Index: []"
            ]
          },
          "execution_count": 691,
          "metadata": {},
          "output_type": "execute_result"
        }
      ],
      "source": [
        "df[(df['Exited'] != 0)&(df['Exited']!=1)]"
      ]
    },
    {
      "cell_type": "code",
      "execution_count": 692,
      "metadata": {
        "colab": {
          "base_uri": "https://localhost:8080/",
          "height": 178
        },
        "id": "wdtFzt2XKboD",
        "outputId": "6c49c774-e723-466d-b345-5060d056dcbc"
      },
      "outputs": [
        {
          "data": {
            "text/plain": [
              "Exited\n",
              "0    7963\n",
              "1    2037\n",
              "Name: count, dtype: int64"
            ]
          },
          "execution_count": 692,
          "metadata": {},
          "output_type": "execute_result"
        }
      ],
      "source": [
        "df['Exited'].value_counts()"
      ]
    },
    {
      "cell_type": "markdown",
      "metadata": {
        "id": "Aca9AbVnKkWh"
      },
      "source": [
        "Thus, this is an unbalanced dataset. Next, I will drop unrelated features"
      ]
    },
    {
      "cell_type": "markdown",
      "metadata": {
        "id": "qZDU2e7gmS9b"
      },
      "source": [
        "### Split Data and apply Dummy Coding"
      ]
    },
    {
      "cell_type": "code",
      "execution_count": 693,
      "metadata": {
        "id": "1mhH6kgxKnKU"
      },
      "outputs": [],
      "source": [
        "X = df.drop(columns = ['Surname', 'Exited', 'CustomerId', 'RowNumber'])\n",
        "y = df['Exited']\n",
        "\n",
        "X_encoded = pd.get_dummies(X, drop_first=True, dtype=float)\n",
        "\n",
        "X_train, X_test, y_train, y_test = train_test_split(X_encoded, y, test_size = 0.3, random_state = 42, stratify = y)"
      ]
    },
    {
      "cell_type": "markdown",
      "metadata": {
        "id": "zjQGIuukmS9b"
      },
      "source": [
        "### Scaling (excluding binary columns)"
      ]
    },
    {
      "cell_type": "code",
      "execution_count": 694,
      "metadata": {
        "id": "QpAk2PqwmS9b"
      },
      "outputs": [],
      "source": [
        "scaler = StandardScaler()\n",
        "numerical_features = ['CreditScore', 'Age', 'Balance', 'NumOfProducts', 'EstimatedSalary']\n",
        "\n",
        "# Convert scaled NumPy array back to DataFrame\n",
        "X_train_scaled = pd.DataFrame(scaler.fit_transform(X_train[numerical_features]),\n",
        "                              columns=numerical_features, index=X_train.index)\n",
        "\n",
        "X_test_scaled = pd.DataFrame(scaler.transform(X_test[numerical_features]),\n",
        "                             columns=numerical_features, index=X_test.index)"
      ]
    },
    {
      "cell_type": "code",
      "execution_count": 695,
      "metadata": {
        "id": "o1iCWd3osbw0"
      },
      "outputs": [],
      "source": [
        "# Concat dataframe back\n",
        "X_train_final = pd.concat([X_train_scaled, X_train.drop(columns=numerical_features)], axis=1)\n",
        "X_test_final = pd.concat([X_test_scaled, X_test.drop(columns=numerical_features)], axis=1)"
      ]
    },
    {
      "cell_type": "markdown",
      "metadata": {
        "id": "H0Q4_KAcmS9c"
      },
      "source": [
        "### Resampling using SMOTE (Synthetic Minority Over-sampling Technique)"
      ]
    },
    {
      "cell_type": "code",
      "execution_count": 696,
      "metadata": {
        "colab": {
          "base_uri": "https://localhost:8080/"
        },
        "id": "A1fYoWYpueBc",
        "outputId": "64f94aba-f0f4-4941-e823-b4c3d0efde12"
      },
      "outputs": [
        {
          "name": "stdout",
          "output_type": "stream",
          "text": [
            "Exited\n",
            "0    5574\n",
            "1    1426\n",
            "Name: count, dtype: int64\n",
            "Exited\n",
            "0    0.796286\n",
            "1    0.203714\n",
            "Name: proportion, dtype: float64\n"
          ]
        }
      ],
      "source": [
        "print(y_train.value_counts())\n",
        "print(y_train.value_counts(normalize = True))"
      ]
    },
    {
      "cell_type": "code",
      "execution_count": 697,
      "metadata": {
        "colab": {
          "base_uri": "https://localhost:8080/"
        },
        "id": "F1cW8DeTv747",
        "outputId": "0e52b154-051b-4ac6-d9ab-7a0316c1bc53"
      },
      "outputs": [
        {
          "name": "stdout",
          "output_type": "stream",
          "text": [
            "Proportion of positive class / negative class: 0.2558\n"
          ]
        }
      ],
      "source": [
        "print(f'Proportion of positive class / negative class: {y_train.value_counts()[1]/y_train.value_counts()[0]:.4f}')"
      ]
    },
    {
      "cell_type": "code",
      "execution_count": 698,
      "metadata": {
        "id": "ttMWSaihmS9c"
      },
      "outputs": [],
      "source": [
        "desired_ratio = 0.7  # the minority class becomes 50% of the majority class size\n",
        "\n",
        "smote = SMOTE(sampling_strategy=desired_ratio, random_state=42)\n",
        "X_resampled, y_resampled = smote.fit_resample(X_train_final, y_train)"
      ]
    },
    {
      "cell_type": "code",
      "execution_count": 699,
      "metadata": {
        "colab": {
          "base_uri": "https://localhost:8080/"
        },
        "id": "OdqopVn3t3JV",
        "outputId": "d56ce60e-8d55-4354-eeb6-c64a345d0e64"
      },
      "outputs": [
        {
          "name": "stdout",
          "output_type": "stream",
          "text": [
            "Exited\n",
            "0    5574\n",
            "1    3901\n",
            "Name: count, dtype: int64\n",
            "Exited\n",
            "0    0.588285\n",
            "1    0.411715\n",
            "Name: proportion, dtype: float64\n"
          ]
        }
      ],
      "source": [
        "print(y_resampled.value_counts())\n",
        "print(y_resampled.value_counts(normalize = True))"
      ]
    },
    {
      "cell_type": "code",
      "execution_count": 700,
      "metadata": {
        "colab": {
          "base_uri": "https://localhost:8080/"
        },
        "id": "8RYONyuZwCff",
        "outputId": "91145293-39e1-4a62-c451-80b8a887e6e2"
      },
      "outputs": [
        {
          "name": "stdout",
          "output_type": "stream",
          "text": [
            "Proportion of positive class / negative class: 0.6999\n"
          ]
        }
      ],
      "source": [
        "print(f'Proportion of positive class / negative class: {y_resampled.value_counts()[1]/y_resampled.value_counts()[0]:.4f}')"
      ]
    },
    {
      "cell_type": "markdown",
      "metadata": {
        "id": "g2SnTE5QmS9c"
      },
      "source": [
        "## Data Prediction"
      ]
    },
    {
      "cell_type": "code",
      "execution_count": 701,
      "metadata": {
        "id": "T7qCVVqROEjI"
      },
      "outputs": [],
      "source": [
        "features = torch.tensor(X_resampled.to_numpy()).float()\n",
        "target = torch.tensor(y_resampled.to_numpy()).float()\n",
        "\n",
        "dataset = TensorDataset(features, target)\n",
        "train_size = int(0.8 * len(dataset))  # 80% for training\n",
        "val_size = len(dataset) - train_size  # 20% for validation\n",
        "\n",
        "train_dataset, val_dataset = random_split(dataset, [train_size, val_size])\n",
        "train_loader = DataLoader(train_dataset, batch_size=32, shuffle = True)\n",
        "val_loader = DataLoader(val_dataset, batch_size=32, shuffle = True)"
      ]
    },
    {
      "cell_type": "code",
      "execution_count": 702,
      "metadata": {
        "id": "qvQ6DOvmPULz"
      },
      "outputs": [],
      "source": [
        "class NeuralNetwork(nn.Module):\n",
        "    def __init__(self, input_dim):\n",
        "        super(NeuralNetwork, self).__init__()\n",
        "\n",
        "        # Define layers\n",
        "        self.layer1 = nn.Linear(input_dim, 16)\n",
        "        self.layer2 = nn.Linear(16, 8)\n",
        "        self.layer3 = nn.Linear(8, 4)\n",
        "        self.output = nn.Linear(4, 1)\n",
        "        self.sigmoid = nn.Sigmoid()\n",
        "\n",
        "    def forward(self, x):\n",
        "        # Pass the input through each layer with ReLU activation\n",
        "        x = torch.relu(self.layer1(x))\n",
        "        x = torch.relu(self.layer2(x))\n",
        "        x = torch.relu(self.layer3(x))\n",
        "\n",
        "        # Pass through output layer and apply sigmoid activation\n",
        "        x = self.sigmoid(self.output(x))\n",
        "        return x\n",
        "\n",
        "input_dim = X_train.shape[1]\n",
        "model = NeuralNetwork(input_dim)"
      ]
    },
    {
      "cell_type": "code",
      "execution_count": 703,
      "metadata": {
        "id": "wPKHhVh7mS9d"
      },
      "outputs": [],
      "source": [
        "criterion = nn.BCELoss()\n",
        "optimizer = optim.Adam(model.parameters(), lr=0.0001)"
      ]
    },
    {
      "cell_type": "code",
      "execution_count": 704,
      "metadata": {
        "id": "W035uHTWQH0u"
      },
      "outputs": [],
      "source": [
        "# Early stopping parameters\n",
        "patience = 10 # Number of epochs to wait before stopping\n",
        "min_val_loss = float('inf') # Initialize with a very high value\n",
        "count = 0 # Tracks how many epochs the val_loss hasn't improved\n",
        "best_model_state = None\n",
        "\n",
        "# epoch\n",
        "num_epochs = 200\n",
        "train_loss = []\n",
        "val_loss = []"
      ]
    },
    {
      "cell_type": "code",
      "execution_count": 705,
      "metadata": {
        "colab": {
          "base_uri": "https://localhost:8080/"
        },
        "id": "U4dOHd4oPgVu",
        "outputId": "0640404a-2d26-400c-c686-33a13641becf"
      },
      "outputs": [
        {
          "name": "stdout",
          "output_type": "stream",
          "text": [
            "Epoch 1/200 - Train Loss: 0.7727, Val Loss: 0.7529\n",
            "Epoch 2/200 - Train Loss: 0.7557, Val Loss: 0.7383\n",
            "Epoch 3/200 - Train Loss: 0.7434, Val Loss: 0.7327\n",
            "Epoch 4/200 - Train Loss: 0.7379, Val Loss: 0.7279\n",
            "Epoch 5/200 - Train Loss: 0.7331, Val Loss: 0.7239\n",
            "Epoch 6/200 - Train Loss: 0.7279, Val Loss: 0.7185\n",
            "Epoch 7/200 - Train Loss: 0.7223, Val Loss: 0.7139\n",
            "Epoch 8/200 - Train Loss: 0.7157, Val Loss: 0.7072\n",
            "Epoch 9/200 - Train Loss: 0.7085, Val Loss: 0.6990\n",
            "Epoch 10/200 - Train Loss: 0.7012, Val Loss: 0.6918\n",
            "Epoch 11/200 - Train Loss: 0.6936, Val Loss: 0.6849\n",
            "Epoch 12/200 - Train Loss: 0.6859, Val Loss: 0.6764\n",
            "Epoch 13/200 - Train Loss: 0.6780, Val Loss: 0.6699\n",
            "Epoch 14/200 - Train Loss: 0.6700, Val Loss: 0.6614\n",
            "Epoch 15/200 - Train Loss: 0.6612, Val Loss: 0.6537\n",
            "Epoch 16/200 - Train Loss: 0.6533, Val Loss: 0.6450\n",
            "Epoch 17/200 - Train Loss: 0.6458, Val Loss: 0.6374\n",
            "Epoch 18/200 - Train Loss: 0.6387, Val Loss: 0.6318\n",
            "Epoch 19/200 - Train Loss: 0.6318, Val Loss: 0.6232\n",
            "Epoch 20/200 - Train Loss: 0.6255, Val Loss: 0.6176\n",
            "Epoch 21/200 - Train Loss: 0.6195, Val Loss: 0.6118\n",
            "Epoch 22/200 - Train Loss: 0.6139, Val Loss: 0.6060\n",
            "Epoch 23/200 - Train Loss: 0.6085, Val Loss: 0.6023\n",
            "Epoch 24/200 - Train Loss: 0.6034, Val Loss: 0.5945\n",
            "Epoch 25/200 - Train Loss: 0.5986, Val Loss: 0.5914\n",
            "Epoch 26/200 - Train Loss: 0.5938, Val Loss: 0.5858\n",
            "Epoch 27/200 - Train Loss: 0.5892, Val Loss: 0.5823\n",
            "Epoch 28/200 - Train Loss: 0.5850, Val Loss: 0.5800\n",
            "Epoch 29/200 - Train Loss: 0.5807, Val Loss: 0.5746\n",
            "Epoch 30/200 - Train Loss: 0.5766, Val Loss: 0.5707\n",
            "Epoch 31/200 - Train Loss: 0.5726, Val Loss: 0.5658\n",
            "Epoch 32/200 - Train Loss: 0.5688, Val Loss: 0.5633\n",
            "Epoch 33/200 - Train Loss: 0.5651, Val Loss: 0.5625\n",
            "Epoch 34/200 - Train Loss: 0.5613, Val Loss: 0.5557\n",
            "Epoch 35/200 - Train Loss: 0.5579, Val Loss: 0.5547\n",
            "Epoch 36/200 - Train Loss: 0.5545, Val Loss: 0.5496\n",
            "Epoch 37/200 - Train Loss: 0.5512, Val Loss: 0.5487\n",
            "Epoch 38/200 - Train Loss: 0.5480, Val Loss: 0.5462\n",
            "Epoch 39/200 - Train Loss: 0.5448, Val Loss: 0.5415\n",
            "Epoch 40/200 - Train Loss: 0.5417, Val Loss: 0.5382\n",
            "Epoch 41/200 - Train Loss: 0.5389, Val Loss: 0.5343\n",
            "Epoch 42/200 - Train Loss: 0.5358, Val Loss: 0.5351\n",
            "Epoch 43/200 - Train Loss: 0.5330, Val Loss: 0.5297\n",
            "Epoch 44/200 - Train Loss: 0.5302, Val Loss: 0.5296\n",
            "Epoch 45/200 - Train Loss: 0.5276, Val Loss: 0.5259\n",
            "Epoch 46/200 - Train Loss: 0.5250, Val Loss: 0.5234\n",
            "Epoch 47/200 - Train Loss: 0.5224, Val Loss: 0.5231\n",
            "Epoch 48/200 - Train Loss: 0.5200, Val Loss: 0.5190\n",
            "Epoch 49/200 - Train Loss: 0.5176, Val Loss: 0.5175\n",
            "Epoch 50/200 - Train Loss: 0.5152, Val Loss: 0.5166\n",
            "Epoch 51/200 - Train Loss: 0.5130, Val Loss: 0.5144\n",
            "Epoch 52/200 - Train Loss: 0.5108, Val Loss: 0.5088\n",
            "Epoch 53/200 - Train Loss: 0.5087, Val Loss: 0.5107\n",
            "Epoch 54/200 - Train Loss: 0.5065, Val Loss: 0.5091\n",
            "Epoch 55/200 - Train Loss: 0.5045, Val Loss: 0.5058\n",
            "Epoch 56/200 - Train Loss: 0.5021, Val Loss: 0.5044\n",
            "Epoch 57/200 - Train Loss: 0.5004, Val Loss: 0.5024\n",
            "Epoch 58/200 - Train Loss: 0.4986, Val Loss: 0.5008\n",
            "Epoch 59/200 - Train Loss: 0.4966, Val Loss: 0.4977\n",
            "Epoch 60/200 - Train Loss: 0.4947, Val Loss: 0.4968\n",
            "Epoch 61/200 - Train Loss: 0.4931, Val Loss: 0.4966\n",
            "Epoch 62/200 - Train Loss: 0.4913, Val Loss: 0.4945\n",
            "Epoch 63/200 - Train Loss: 0.4896, Val Loss: 0.4944\n",
            "Epoch 64/200 - Train Loss: 0.4881, Val Loss: 0.4906\n",
            "Epoch 65/200 - Train Loss: 0.4864, Val Loss: 0.4880\n",
            "Epoch 66/200 - Train Loss: 0.4849, Val Loss: 0.4895\n",
            "Epoch 67/200 - Train Loss: 0.4834, Val Loss: 0.4873\n",
            "Epoch 68/200 - Train Loss: 0.4820, Val Loss: 0.4845\n",
            "Epoch 69/200 - Train Loss: 0.4805, Val Loss: 0.4849\n",
            "Epoch 70/200 - Train Loss: 0.4792, Val Loss: 0.4849\n",
            "Epoch 71/200 - Train Loss: 0.4777, Val Loss: 0.4861\n",
            "Epoch 72/200 - Train Loss: 0.4767, Val Loss: 0.4848\n",
            "Epoch 73/200 - Train Loss: 0.4751, Val Loss: 0.4830\n",
            "Epoch 74/200 - Train Loss: 0.4741, Val Loss: 0.4783\n",
            "Epoch 75/200 - Train Loss: 0.4729, Val Loss: 0.4796\n",
            "Epoch 76/200 - Train Loss: 0.4717, Val Loss: 0.4781\n",
            "Epoch 77/200 - Train Loss: 0.4707, Val Loss: 0.4760\n",
            "Epoch 78/200 - Train Loss: 0.4696, Val Loss: 0.4753\n",
            "Epoch 79/200 - Train Loss: 0.4687, Val Loss: 0.4781\n",
            "Epoch 80/200 - Train Loss: 0.4677, Val Loss: 0.4738\n",
            "Epoch 81/200 - Train Loss: 0.4667, Val Loss: 0.4771\n",
            "Epoch 82/200 - Train Loss: 0.4657, Val Loss: 0.4779\n",
            "Epoch 83/200 - Train Loss: 0.4647, Val Loss: 0.4735\n",
            "Epoch 84/200 - Train Loss: 0.4640, Val Loss: 0.4698\n",
            "Epoch 85/200 - Train Loss: 0.4630, Val Loss: 0.4751\n",
            "Epoch 86/200 - Train Loss: 0.4624, Val Loss: 0.4697\n",
            "Epoch 87/200 - Train Loss: 0.4614, Val Loss: 0.4747\n",
            "Epoch 88/200 - Train Loss: 0.4609, Val Loss: 0.4672\n",
            "Epoch 89/200 - Train Loss: 0.4598, Val Loss: 0.4688\n",
            "Epoch 90/200 - Train Loss: 0.4590, Val Loss: 0.4714\n",
            "Epoch 91/200 - Train Loss: 0.4583, Val Loss: 0.4649\n",
            "Epoch 92/200 - Train Loss: 0.4575, Val Loss: 0.4645\n",
            "Epoch 93/200 - Train Loss: 0.4569, Val Loss: 0.4676\n",
            "Epoch 94/200 - Train Loss: 0.4563, Val Loss: 0.4664\n",
            "Epoch 95/200 - Train Loss: 0.4555, Val Loss: 0.4660\n",
            "Epoch 96/200 - Train Loss: 0.4549, Val Loss: 0.4639\n",
            "Epoch 97/200 - Train Loss: 0.4542, Val Loss: 0.4638\n",
            "Epoch 98/200 - Train Loss: 0.4539, Val Loss: 0.4719\n",
            "Epoch 99/200 - Train Loss: 0.4531, Val Loss: 0.4640\n",
            "Epoch 100/200 - Train Loss: 0.4525, Val Loss: 0.4593\n",
            "Epoch 101/200 - Train Loss: 0.4519, Val Loss: 0.4594\n",
            "Epoch 102/200 - Train Loss: 0.4513, Val Loss: 0.4634\n",
            "Epoch 103/200 - Train Loss: 0.4509, Val Loss: 0.4604\n",
            "Epoch 104/200 - Train Loss: 0.4504, Val Loss: 0.4633\n",
            "Epoch 105/200 - Train Loss: 0.4498, Val Loss: 0.4641\n",
            "Epoch 106/200 - Train Loss: 0.4491, Val Loss: 0.4630\n",
            "Epoch 107/200 - Train Loss: 0.4485, Val Loss: 0.4597\n",
            "Epoch 108/200 - Train Loss: 0.4483, Val Loss: 0.4569\n",
            "Epoch 109/200 - Train Loss: 0.4478, Val Loss: 0.4609\n",
            "Epoch 110/200 - Train Loss: 0.4473, Val Loss: 0.4609\n",
            "Epoch 111/200 - Train Loss: 0.4471, Val Loss: 0.4593\n",
            "Epoch 112/200 - Train Loss: 0.4463, Val Loss: 0.4604\n",
            "Epoch 113/200 - Train Loss: 0.4459, Val Loss: 0.4576\n",
            "Epoch 114/200 - Train Loss: 0.4455, Val Loss: 0.4603\n",
            "Epoch 115/200 - Train Loss: 0.4453, Val Loss: 0.4611\n",
            "Epoch 116/200 - Train Loss: 0.4447, Val Loss: 0.4553\n",
            "Epoch 117/200 - Train Loss: 0.4442, Val Loss: 0.4612\n",
            "Epoch 118/200 - Train Loss: 0.4438, Val Loss: 0.4553\n",
            "Epoch 119/200 - Train Loss: 0.4433, Val Loss: 0.4584\n",
            "Epoch 120/200 - Train Loss: 0.4429, Val Loss: 0.4551\n",
            "Epoch 121/200 - Train Loss: 0.4427, Val Loss: 0.4610\n",
            "Epoch 122/200 - Train Loss: 0.4420, Val Loss: 0.4539\n",
            "Epoch 123/200 - Train Loss: 0.4419, Val Loss: 0.4605\n",
            "Epoch 124/200 - Train Loss: 0.4413, Val Loss: 0.4565\n",
            "Epoch 125/200 - Train Loss: 0.4411, Val Loss: 0.4551\n",
            "Epoch 126/200 - Train Loss: 0.4408, Val Loss: 0.4582\n",
            "Epoch 127/200 - Train Loss: 0.4403, Val Loss: 0.4554\n",
            "Epoch 128/200 - Train Loss: 0.4398, Val Loss: 0.4528\n",
            "Epoch 129/200 - Train Loss: 0.4396, Val Loss: 0.4541\n",
            "Epoch 130/200 - Train Loss: 0.4390, Val Loss: 0.4567\n",
            "Epoch 131/200 - Train Loss: 0.4388, Val Loss: 0.4511\n",
            "Epoch 132/200 - Train Loss: 0.4383, Val Loss: 0.4528\n",
            "Epoch 133/200 - Train Loss: 0.4380, Val Loss: 0.4563\n",
            "Epoch 134/200 - Train Loss: 0.4376, Val Loss: 0.4537\n",
            "Epoch 135/200 - Train Loss: 0.4374, Val Loss: 0.4533\n",
            "Epoch 136/200 - Train Loss: 0.4372, Val Loss: 0.4528\n",
            "Epoch 137/200 - Train Loss: 0.4370, Val Loss: 0.4511\n",
            "Epoch 138/200 - Train Loss: 0.4364, Val Loss: 0.4553\n",
            "Epoch 139/200 - Train Loss: 0.4361, Val Loss: 0.4513\n",
            "Epoch 140/200 - Train Loss: 0.4359, Val Loss: 0.4533\n",
            "Epoch 141/200 - Train Loss: 0.4356, Val Loss: 0.4512\n",
            "Early stopping triggered at epoch 142. Best Val Loss: 0.4511 at Epoch: 141/200\n",
            "None\n"
          ]
        },
        {
          "data": {
            "text/plain": [
              "NeuralNetwork(\n",
              "  (layer1): Linear(in_features=11, out_features=16, bias=True)\n",
              "  (layer2): Linear(in_features=16, out_features=8, bias=True)\n",
              "  (layer3): Linear(in_features=8, out_features=4, bias=True)\n",
              "  (output): Linear(in_features=4, out_features=1, bias=True)\n",
              "  (sigmoid): Sigmoid()\n",
              ")"
            ]
          },
          "execution_count": 705,
          "metadata": {},
          "output_type": "execute_result"
        }
      ],
      "source": [
        "for epoch in range(num_epochs):\n",
        "    model.train()\n",
        "    training_loss = 0.0\n",
        "\n",
        "    for data in train_loader:\n",
        "        # Set the gradients to zero\n",
        "        optimizer.zero_grad()\n",
        "        feature, target = data\n",
        "        pred = model(feature)\n",
        "\n",
        "        loss = criterion(pred.squeeze(), target.float())\n",
        "        loss.backward()\n",
        "        optimizer.step()\n",
        "\n",
        "        training_loss += loss.item()\n",
        "\n",
        "    epoch_train_loss = training_loss / len(train_loader)\n",
        "    train_loss.append(epoch_train_loss)\n",
        "\n",
        "    # Validation Phase\n",
        "    model.eval()\n",
        "    validation_loss = 0.0\n",
        "\n",
        "    with torch.no_grad():\n",
        "        for data in val_loader:\n",
        "            feature, target = data\n",
        "            pred = model(feature)\n",
        "\n",
        "            loss = criterion(pred.squeeze(), target.float())\n",
        "            validation_loss += loss.item()\n",
        "\n",
        "    epoch_val_loss = validation_loss / len(val_loader)\n",
        "    val_loss.append(epoch_val_loss)\n",
        "\n",
        "    print(f\"Epoch {epoch+1}/{num_epochs} - Train Loss: {epoch_train_loss:.4f}, Val Loss: {epoch_val_loss:.4f}\")\n",
        "\n",
        "    # Early Stopping check\n",
        "    if epoch_val_loss < min_val_loss:\n",
        "      min_val_loss = epoch_val_loss\n",
        "      count = 0\n",
        "\n",
        "      # Store the best model so the model will not keep the last-trained weights instead of the best-performing ones\n",
        "      best_model_state = model.state_dict()\n",
        "    else:\n",
        "      count += 1\n",
        "      if count >= patience:\n",
        "        epoch = epoch + 1 # assign variable for plotting\n",
        "        print(print(f\"Early stopping triggered at epoch {epoch+1}. Best Val Loss: {min_val_loss:.4f} at Epoch: {epoch}/{num_epochs}\"))\n",
        "        break\n",
        "\n",
        "model.train()"
      ]
    },
    {
      "cell_type": "code",
      "execution_count": 706,
      "metadata": {
        "colab": {
          "base_uri": "https://localhost:8080/",
          "height": 564
        },
        "id": "dUF4lLXUmS9e",
        "outputId": "c5ec6dee-8a44-4e25-c8f3-c60fae09c683"
      },
      "outputs": [
        {
          "data": {
            "image/png": "[encoded data removed]",
            "text/plain": [
              "<Figure size 1200x600 with 1 Axes>"
            ]
          },
          "metadata": {},
          "output_type": "display_data"
        }
      ],
      "source": [
        "mean_train_loss = sum(train_loss) / len(train_loss)\n",
        "mean_val_loss = sum(val_loss) / len(val_loss)\n",
        "\n",
        "# Plot the Loss Curve\n",
        "if num_epochs > epoch + 1:\n",
        "    range_epoch = epoch\n",
        "else: range_epoch = num_epochs\n",
        "\n",
        "plt.figure(figsize = (12, 6))\n",
        "plt.plot(range(1, range_epoch + 1), train_loss, label=f'Training Loss (Mean: {mean_train_loss:.4f})', marker='o')\n",
        "plt.plot(range(1, range_epoch + 1), val_loss, label=f'Validation Loss (Mean: {mean_val_loss:.4f})', marker='s')\n",
        "\n",
        "plt.xlabel('Epochs')\n",
        "plt.ylabel('Loss')\n",
        "plt.title('Training & Validation Loss Over Epochs')\n",
        "plt.legend()\n",
        "plt.grid()\n",
        "plt.show()"
      ]
    },
    {
      "cell_type": "markdown",
      "metadata": {
        "id": "4OBpEVdF39Pi"
      },
      "source": [
        "##### Training loss is close but a bit lower than validation loss; the model slightly overfits."
      ]
    },
    {
      "cell_type": "code",
      "execution_count": 707,
      "metadata": {
        "id": "JK9zEAm2Vl4-"
      },
      "outputs": [],
      "source": [
        "if best_model_state:\n",
        "    model.load_state_dict(best_model_state)"
      ]
    },
    {
      "cell_type": "code",
      "execution_count": 708,
      "metadata": {
        "id": "Fajmp4AVSVOR"
      },
      "outputs": [],
      "source": [
        "features_test = torch.tensor(X_test_final.to_numpy()).float()\n",
        "target_test = torch.tensor(y_test.to_numpy()).float()\n",
        "\n",
        "test_dataset = TensorDataset(features_test, target_test)\n",
        "test_loader = DataLoader(test_dataset, batch_size = 32, shuffle = True)"
      ]
    },
    {
      "cell_type": "code",
      "execution_count": 709,
      "metadata": {
        "colab": {
          "base_uri": "https://localhost:8080/"
        },
        "id": "g_aJiR79SdGs",
        "outputId": "25e153c7-35ff-4272-e0d6-402ce3af949c"
      },
      "outputs": [
        {
          "name": "stdout",
          "output_type": "stream",
          "text": [
            "Testing Loss: 0.4123\n"
          ]
        }
      ],
      "source": [
        "model.eval()\n",
        "\n",
        "testing_loss = 0.0\n",
        "correct = 0\n",
        "total = 0\n",
        "all_preds = []\n",
        "all_targets = []\n",
        "all_probs = []\n",
        "\n",
        "threshold = 0.5\n",
        "\n",
        "with torch.no_grad():\n",
        "    for data in test_loader:\n",
        "        feature, target = data\n",
        "        pred = model(feature)\n",
        "\n",
        "        loss = criterion(pred.squeeze(), target.float())\n",
        "        testing_loss += loss.item()\n",
        "\n",
        "        # Compute for Confusion Matrix and Classification report\n",
        "        pred_label = (pred.squeeze() >= threshold).float()\n",
        "        correct += (pred_label == target).sum().item()\n",
        "        total += target.size(0)\n",
        "\n",
        "        # Store results for Confusion Matrix\n",
        "        all_preds.extend(pred_label.cpu().numpy())\n",
        "        all_targets.extend(target.cpu().numpy())\n",
        "\n",
        "        # Store probabilities for Precision-Recall Curve\n",
        "        all_probs.extend(pred.cpu().numpy())\n",
        "\n",
        "average_test_loss = testing_loss / len(test_loader)\n",
        "print(f'Testing Loss: {average_test_loss:.4f}')"
      ]
    },
    {
      "cell_type": "code",
      "execution_count": 710,
      "metadata": {
        "colab": {
          "base_uri": "https://localhost:8080/",
          "height": 472
        },
        "id": "AIYg5KwBV1m-",
        "outputId": "cf128cbf-3858-47d6-a102-e4a9e601d8f9"
      },
      "outputs": [
        {
          "data": {
            "image/png": "[encoded data removed]",
            "text/plain": [
              "<Figure size 640x480 with 2 Axes>"
            ]
          },
          "metadata": {},
          "output_type": "display_data"
        }
      ],
      "source": [
        "conf_matrix = confusion_matrix(all_targets, all_preds)\n",
        "\n",
        "sns.heatmap(conf_matrix, annot=True, fmt=\"d\", cmap=\"Blues\")\n",
        "plt.xlabel(\"Predicted Labels\")\n",
        "plt.ylabel(\"True Labels\")\n",
        "plt.title(\"Confusion Matrix\")\n",
        "plt.show()"
      ]
    },
    {
      "cell_type": "markdown",
      "metadata": {
        "id": "HKFc5oIn4VGo"
      },
      "source": [
        "##### Lower FN than Higher FP → The number of customers churning being predicted as not churning is the lowest among the four. Trade-off where more non-churning customers are being misclassified as churning."
      ]
    },
    {
      "cell_type": "code",
      "execution_count": 711,
      "metadata": {
        "colab": {
          "base_uri": "https://localhost:8080/"
        },
        "id": "1hkG71iHWYWS",
        "outputId": "ad593b1e-ee70-4c68-9d11-69ef6cd49d53"
      },
      "outputs": [
        {
          "name": "stdout",
          "output_type": "stream",
          "text": [
            "              precision    recall  f1-score   support\n",
            "\n",
            "         0.0       0.91      0.87      0.89      2389\n",
            "         1.0       0.57      0.65      0.61       611\n",
            "\n",
            "    accuracy                           0.83      3000\n",
            "   macro avg       0.74      0.76      0.75      3000\n",
            "weighted avg       0.84      0.83      0.83      3000\n",
            "\n"
          ]
        }
      ],
      "source": [
        "class_report = classification_report(all_targets, all_preds)\n",
        "print(class_report)"
      ]
    },
    {
      "cell_type": "code",
      "execution_count": 712,
      "metadata": {
        "colab": {
          "base_uri": "https://localhost:8080/"
        },
        "id": "kU0bt3ScmS9f",
        "outputId": "72d60442-19e4-45db-84cf-887febcc6898"
      },
      "outputs": [
        {
          "name": "stdout",
          "output_type": "stream",
          "text": [
            "Area Under the Precision-Recall Curve (PR AUC): 0.6984\n"
          ]
        }
      ],
      "source": [
        "precision, recall, thresholds = precision_recall_curve(all_targets, all_probs)\n",
        "pr_auc = auc(recall, precision)\n",
        "print(f'Area Under the Precision-Recall Curve (PR AUC): {pr_auc:.4f}')"
      ]
    },
    {
      "cell_type": "code",
      "execution_count": 713,
      "metadata": {
        "colab": {
          "base_uri": "https://localhost:8080/",
          "height": 472
        },
        "id": "A257AJLKmS9f",
        "outputId": "021d5ebf-9b05-4db0-d180-5ca46711d892"
      },
      "outputs": [
        {
          "data": {
            "image/png": "[encoded data removed]",
            "text/plain": [
              "<Figure size 640x480 with 1 Axes>"
            ]
          },
          "metadata": {},
          "output_type": "display_data"
        }
      ],
      "source": [
        "plt.plot(recall, precision, color = 'skyblue', label='PR-AUC curve (area = {:.2f})'.format(pr_auc))\n",
        "plt.plot([1, 0], [0, 1], color='gray', linestyle='--') # random classifier line\n",
        "plt.xlim([0.0, 1.0]) # set the limits of the x-axis\n",
        "plt.ylim([0.0, 1.0])\n",
        "plt.xlabel('Recall')\n",
        "plt.ylabel('Precision')\n",
        "plt.title('Precision-Recall Curve')\n",
        "plt.legend(loc='lower right')\n",
        "plt.grid()\n",
        "plt.show()"
      ]
    },
    {
      "cell_type": "markdown",
      "metadata": {
        "id": "nHLYnG524LAR"
      },
      "source": [
        "##### The PR curve drops sharply: the model loses precision as recall increases"
      ]
    },
    {
      "cell_type": "markdown",
      "metadata": {},
      "source": [
        "### Extract feature weights from model"
      ]
    },
    {
      "cell_type": "code",
      "execution_count": 714,
      "metadata": {},
      "outputs": [
        {
          "name": "stdout",
          "output_type": "stream",
          "text": [
            "odict_keys(['layer1.weight', 'layer1.bias', 'layer2.weight', 'layer2.bias', 'layer3.weight', 'layer3.bias', 'output.weight', 'output.bias'])\n"
          ]
        }
      ],
      "source": [
        "state_dict = model.state_dict()\n",
        "print(state_dict.keys())"
      ]
    },
    {
      "cell_type": "code",
      "execution_count": 715,
      "metadata": {},
      "outputs": [
        {
          "name": "stdout",
          "output_type": "stream",
          "text": [
            "Balance: 0.5244172215461731\n",
            "HasCrCard: 0.34161263704299927\n",
            "Geography_Spain: 0.21150089800357819\n",
            "Age: 0.14478644728660583\n",
            "Geography_Germany: -0.013702765107154846\n",
            "Gender_Male: -0.08660813421010971\n",
            "CreditScore: -0.11634824424982071\n",
            "Tenure: -0.19603875279426575\n",
            "NumOfProducts: -0.2716858386993408\n",
            "EstimatedSalary: -0.3897841274738312\n",
            "IsActiveMember: -0.39720192551612854\n"
          ]
        }
      ],
      "source": [
        "first_layer_weights = state_dict['layer1.weight']\n",
        "feature_importance = first_layer_weights.detach().numpy().flatten() # deteach = perform operation on tensor but not track gradient descent\n",
        "feature_names = X_test_final.columns\n",
        "importance_dict = dict(zip(feature_names, feature_importance))\n",
        "\n",
        "sorted_importance = sorted(importance_dict.items(), key=lambda x: x[1], reverse=True)\n",
        "for feature, importance in sorted_importance:\n",
        "    print(f\"{feature}: {importance}\")"
      ]
    },
    {
      "cell_type": "code",
      "execution_count": 716,
      "metadata": {},
      "outputs": [
        {
          "data": {
            "image/png": "[encoded data removed]",
            "text/plain": [
              "<Figure size 1000x500 with 1 Axes>"
            ]
          },
          "metadata": {},
          "output_type": "display_data"
        }
      ],
      "source": [
        "sorted_features = [f[0] for f in sorted_importance]\n",
        "sorted_values = [f[1] for f in sorted_importance]\n",
        "\n",
        "plt.figure(figsize=(10,5))\n",
        "plt.barh(sorted_features, sorted_values, color='skyblue')\n",
        "plt.xlabel(\"Feature Importance\")\n",
        "plt.ylabel(\"Features\")\n",
        "plt.title(\"Feature Importance in Linear Neural Network\")\n",
        "plt.gca().invert_yaxis()\n",
        "plt.show()"
      ]
    }
  ],
  "metadata": {
    "colab": {
      "provenance": []
    },
    "kernelspec": {
      "display_name": "Python 3",
      "name": "python3"
    },
    "language_info": {
      "codemirror_mode": {
        "name": "ipython",
        "version": 3
      },
      "file_extension": ".py",
      "mimetype": "text/x-python",
      "name": "python",
      "nbconvert_exporter": "python",
      "pygments_lexer": "ipython3",
      "version": "3.12.9"
    }
  },
  "nbformat": 4,
  "nbformat_minor": 0
}
