{
  "cells": [
    {
      "cell_type": "markdown",
      "metadata": {
        "id": "aeAmfXUPmS9K"
      },
      "source": [
        "# Bank Churn Neural Network Model"
      ]
    },
    {
      "cell_type": "code",
      "execution_count": 163,
      "metadata": {
        "colab": {
          "base_uri": "https://localhost:8080/"
        },
        "id": "QlgQPDosICU1",
        "outputId": "1f8f6a7a-14b8-4067-b36a-19ea7f92ffb1"
      },
      "outputs": [
        {
          "data": {
            "text/plain": [
              "<torch._C.Generator at 0x1c09b1821d0>"
            ]
          },
          "execution_count": 163,
          "metadata": {},
          "output_type": "execute_result"
        }
      ],
      "source": [
        "import pandas as pd\n",
        "import matplotlib.pyplot as plt\n",
        "import seaborn as sns\n",
        "import numpy as np\n",
        "\n",
        "from sklearn.preprocessing import StandardScaler\n",
        "from sklearn.model_selection import train_test_split\n",
        "from sklearn.metrics import confusion_matrix, classification_report, precision_recall_curve, auc\n",
        "\n",
        "from imblearn.over_sampling import SMOTE\n",
        "\n",
        "import torch\n",
        "from torch.utils.data import TensorDataset, DataLoader, random_split\n",
        "import torch.nn as nn\n",
        "import torch.nn.init as init\n",
        "import torch.optim as optim\n",
        "\n",
        "seed = 42\n",
        "np.random.seed(seed)\n",
        "torch.manual_seed(seed)"
      ]
    },
    {
      "cell_type": "markdown",
      "metadata": {
        "id": "jh4PAbfsmS9V"
      },
      "source": [
        "## Data Preprocessing"
      ]
    },
    {
      "cell_type": "code",
      "execution_count": 164,
      "metadata": {
        "colab": {
          "base_uri": "https://localhost:8080/",
          "height": 226
        },
        "id": "5BL7bHeIIWVQ",
        "outputId": "75f9d553-3600-429c-af80-3fa36a54bf34"
      },
      "outputs": [
        {
          "data": {
            "text/html": [
              "<div>\n",
              "<style scoped>\n",
              "    .dataframe tbody tr th:only-of-type {\n",
              "        vertical-align: middle;\n",
              "    }\n",
              "\n",
              "    .dataframe tbody tr th {\n",
              "        vertical-align: top;\n",
              "    }\n",
              "\n",
              "    .dataframe thead th {\n",
              "        text-align: right;\n",
              "    }\n",
              "</style>\n",
              "<table border=\"1\" class=\"dataframe\">\n",
              "  <thead>\n",
              "    <tr style=\"text-align: right;\">\n",
              "      <th></th>\n",
              "      <th>RowNumber</th>\n",
              "      <th>CustomerId</th>\n",
              "      <th>Surname</th>\n",
              "      <th>CreditScore</th>\n",
              "      <th>Geography</th>\n",
              "      <th>Gender</th>\n",
              "      <th>Age</th>\n",
              "      <th>Tenure</th>\n",
              "      <th>Balance</th>\n",
              "      <th>NumOfProducts</th>\n",
              "      <th>HasCrCard</th>\n",
              "      <th>IsActiveMember</th>\n",
              "      <th>EstimatedSalary</th>\n",
              "      <th>Exited</th>\n",
              "    </tr>\n",
              "  </thead>\n",
              "  <tbody>\n",
              "    <tr>\n",
              "      <th>0</th>\n",
              "      <td>1</td>\n",
              "      <td>15634602</td>\n",
              "      <td>Hargrave</td>\n",
              "      <td>619</td>\n",
              "      <td>France</td>\n",
              "      <td>Female</td>\n",
              "      <td>42</td>\n",
              "      <td>2</td>\n",
              "      <td>0.00</td>\n",
              "      <td>1</td>\n",
              "      <td>1</td>\n",
              "      <td>1</td>\n",
              "      <td>101348.88</td>\n",
              "      <td>1</td>\n",
              "    </tr>\n",
              "    <tr>\n",
              "      <th>1</th>\n",
              "      <td>2</td>\n",
              "      <td>15647311</td>\n",
              "      <td>Hill</td>\n",
              "      <td>608</td>\n",
              "      <td>Spain</td>\n",
              "      <td>Female</td>\n",
              "      <td>41</td>\n",
              "      <td>1</td>\n",
              "      <td>83807.86</td>\n",
              "      <td>1</td>\n",
              "      <td>0</td>\n",
              "      <td>1</td>\n",
              "      <td>112542.58</td>\n",
              "      <td>0</td>\n",
              "    </tr>\n",
              "    <tr>\n",
              "      <th>2</th>\n",
              "      <td>3</td>\n",
              "      <td>15619304</td>\n",
              "      <td>Onio</td>\n",
              "      <td>502</td>\n",
              "      <td>France</td>\n",
              "      <td>Female</td>\n",
              "      <td>42</td>\n",
              "      <td>8</td>\n",
              "      <td>159660.80</td>\n",
              "      <td>3</td>\n",
              "      <td>1</td>\n",
              "      <td>0</td>\n",
              "      <td>113931.57</td>\n",
              "      <td>1</td>\n",
              "    </tr>\n",
              "    <tr>\n",
              "      <th>3</th>\n",
              "      <td>4</td>\n",
              "      <td>15701354</td>\n",
              "      <td>Boni</td>\n",
              "      <td>699</td>\n",
              "      <td>France</td>\n",
              "      <td>Female</td>\n",
              "      <td>39</td>\n",
              "      <td>1</td>\n",
              "      <td>0.00</td>\n",
              "      <td>2</td>\n",
              "      <td>0</td>\n",
              "      <td>0</td>\n",
              "      <td>93826.63</td>\n",
              "      <td>0</td>\n",
              "    </tr>\n",
              "    <tr>\n",
              "      <th>4</th>\n",
              "      <td>5</td>\n",
              "      <td>15737888</td>\n",
              "      <td>Mitchell</td>\n",
              "      <td>850</td>\n",
              "      <td>Spain</td>\n",
              "      <td>Female</td>\n",
              "      <td>43</td>\n",
              "      <td>2</td>\n",
              "      <td>125510.82</td>\n",
              "      <td>1</td>\n",
              "      <td>1</td>\n",
              "      <td>1</td>\n",
              "      <td>79084.10</td>\n",
              "      <td>0</td>\n",
              "    </tr>\n",
              "  </tbody>\n",
              "</table>\n",
              "</div>"
            ],
            "text/plain": [
              "   RowNumber  CustomerId   Surname  CreditScore Geography  Gender  Age  \\\n",
              "0          1    15634602  Hargrave          619    France  Female   42   \n",
              "1          2    15647311      Hill          608     Spain  Female   41   \n",
              "2          3    15619304      Onio          502    France  Female   42   \n",
              "3          4    15701354      Boni          699    France  Female   39   \n",
              "4          5    15737888  Mitchell          850     Spain  Female   43   \n",
              "\n",
              "   Tenure    Balance  NumOfProducts  HasCrCard  IsActiveMember  \\\n",
              "0       2       0.00              1          1               1   \n",
              "1       1   83807.86              1          0               1   \n",
              "2       8  159660.80              3          1               0   \n",
              "3       1       0.00              2          0               0   \n",
              "4       2  125510.82              1          1               1   \n",
              "\n",
              "   EstimatedSalary  Exited  \n",
              "0        101348.88       1  \n",
              "1        112542.58       0  \n",
              "2        113931.57       1  \n",
              "3         93826.63       0  \n",
              "4         79084.10       0  "
            ]
          },
          "execution_count": 164,
          "metadata": {},
          "output_type": "execute_result"
        }
      ],
      "source": [
        "df = pd.read_csv('../content/Churn_Modelling.csv')\n",
        "df.head()"
      ]
    },
    {
      "cell_type": "code",
      "execution_count": 165,
      "metadata": {
        "colab": {
          "base_uri": "https://localhost:8080/"
        },
        "id": "r1CKQ0giJ7y_",
        "outputId": "13b3e40e-db62-42ab-a6a0-9ef8dad98917"
      },
      "outputs": [
        {
          "name": "stdout",
          "output_type": "stream",
          "text": [
            "<class 'pandas.core.frame.DataFrame'>\n",
            "RangeIndex: 10000 entries, 0 to 9999\n",
            "Data columns (total 14 columns):\n",
            " #   Column           Non-Null Count  Dtype  \n",
            "---  ------           --------------  -----  \n",
            " 0   RowNumber        10000 non-null  int64  \n",
            " 1   CustomerId       10000 non-null  int64  \n",
            " 2   Surname          10000 non-null  object \n",
            " 3   CreditScore      10000 non-null  int64  \n",
            " 4   Geography        10000 non-null  object \n",
            " 5   Gender           10000 non-null  object \n",
            " 6   Age              10000 non-null  int64  \n",
            " 7   Tenure           10000 non-null  int64  \n",
            " 8   Balance          10000 non-null  float64\n",
            " 9   NumOfProducts    10000 non-null  int64  \n",
            " 10  HasCrCard        10000 non-null  int64  \n",
            " 11  IsActiveMember   10000 non-null  int64  \n",
            " 12  EstimatedSalary  10000 non-null  float64\n",
            " 13  Exited           10000 non-null  int64  \n",
            "dtypes: float64(2), int64(9), object(3)\n",
            "memory usage: 1.1+ MB\n"
          ]
        }
      ],
      "source": [
        "df.info()"
      ]
    },
    {
      "cell_type": "code",
      "execution_count": 166,
      "metadata": {
        "colab": {
          "base_uri": "https://localhost:8080/"
        },
        "id": "N0s4084IKHqW",
        "outputId": "0e2e3464-4ad7-4d78-ed3c-56f9b9c59011"
      },
      "outputs": [
        {
          "data": {
            "text/plain": [
              "np.int64(0)"
            ]
          },
          "execution_count": 166,
          "metadata": {},
          "output_type": "execute_result"
        }
      ],
      "source": [
        "df.duplicated().sum()"
      ]
    },
    {
      "cell_type": "code",
      "execution_count": 167,
      "metadata": {
        "colab": {
          "base_uri": "https://localhost:8080/",
          "height": 320
        },
        "id": "vtPsUd9jKLCV",
        "outputId": "7bbbd25f-a460-4b9e-953e-44ea2d5b0109"
      },
      "outputs": [
        {
          "data": {
            "text/html": [
              "<div>\n",
              "<style scoped>\n",
              "    .dataframe tbody tr th:only-of-type {\n",
              "        vertical-align: middle;\n",
              "    }\n",
              "\n",
              "    .dataframe tbody tr th {\n",
              "        vertical-align: top;\n",
              "    }\n",
              "\n",
              "    .dataframe thead th {\n",
              "        text-align: right;\n",
              "    }\n",
              "</style>\n",
              "<table border=\"1\" class=\"dataframe\">\n",
              "  <thead>\n",
              "    <tr style=\"text-align: right;\">\n",
              "      <th></th>\n",
              "      <th>RowNumber</th>\n",
              "      <th>CustomerId</th>\n",
              "      <th>CreditScore</th>\n",
              "      <th>Age</th>\n",
              "      <th>Tenure</th>\n",
              "      <th>Balance</th>\n",
              "      <th>NumOfProducts</th>\n",
              "      <th>HasCrCard</th>\n",
              "      <th>IsActiveMember</th>\n",
              "      <th>EstimatedSalary</th>\n",
              "      <th>Exited</th>\n",
              "    </tr>\n",
              "  </thead>\n",
              "  <tbody>\n",
              "    <tr>\n",
              "      <th>count</th>\n",
              "      <td>10000.00000</td>\n",
              "      <td>1.000000e+04</td>\n",
              "      <td>10000.000000</td>\n",
              "      <td>10000.000000</td>\n",
              "      <td>10000.000000</td>\n",
              "      <td>10000.000000</td>\n",
              "      <td>10000.000000</td>\n",
              "      <td>10000.00000</td>\n",
              "      <td>10000.000000</td>\n",
              "      <td>10000.000000</td>\n",
              "      <td>10000.000000</td>\n",
              "    </tr>\n",
              "    <tr>\n",
              "      <th>mean</th>\n",
              "      <td>5000.50000</td>\n",
              "      <td>1.569094e+07</td>\n",
              "      <td>650.528800</td>\n",
              "      <td>38.921800</td>\n",
              "      <td>5.012800</td>\n",
              "      <td>76485.889288</td>\n",
              "      <td>1.530200</td>\n",
              "      <td>0.70550</td>\n",
              "      <td>0.515100</td>\n",
              "      <td>100090.239881</td>\n",
              "      <td>0.203700</td>\n",
              "    </tr>\n",
              "    <tr>\n",
              "      <th>std</th>\n",
              "      <td>2886.89568</td>\n",
              "      <td>7.193619e+04</td>\n",
              "      <td>96.653299</td>\n",
              "      <td>10.487806</td>\n",
              "      <td>2.892174</td>\n",
              "      <td>62397.405202</td>\n",
              "      <td>0.581654</td>\n",
              "      <td>0.45584</td>\n",
              "      <td>0.499797</td>\n",
              "      <td>57510.492818</td>\n",
              "      <td>0.402769</td>\n",
              "    </tr>\n",
              "    <tr>\n",
              "      <th>min</th>\n",
              "      <td>1.00000</td>\n",
              "      <td>1.556570e+07</td>\n",
              "      <td>350.000000</td>\n",
              "      <td>18.000000</td>\n",
              "      <td>0.000000</td>\n",
              "      <td>0.000000</td>\n",
              "      <td>1.000000</td>\n",
              "      <td>0.00000</td>\n",
              "      <td>0.000000</td>\n",
              "      <td>11.580000</td>\n",
              "      <td>0.000000</td>\n",
              "    </tr>\n",
              "    <tr>\n",
              "      <th>25%</th>\n",
              "      <td>2500.75000</td>\n",
              "      <td>1.562853e+07</td>\n",
              "      <td>584.000000</td>\n",
              "      <td>32.000000</td>\n",
              "      <td>3.000000</td>\n",
              "      <td>0.000000</td>\n",
              "      <td>1.000000</td>\n",
              "      <td>0.00000</td>\n",
              "      <td>0.000000</td>\n",
              "      <td>51002.110000</td>\n",
              "      <td>0.000000</td>\n",
              "    </tr>\n",
              "    <tr>\n",
              "      <th>50%</th>\n",
              "      <td>5000.50000</td>\n",
              "      <td>1.569074e+07</td>\n",
              "      <td>652.000000</td>\n",
              "      <td>37.000000</td>\n",
              "      <td>5.000000</td>\n",
              "      <td>97198.540000</td>\n",
              "      <td>1.000000</td>\n",
              "      <td>1.00000</td>\n",
              "      <td>1.000000</td>\n",
              "      <td>100193.915000</td>\n",
              "      <td>0.000000</td>\n",
              "    </tr>\n",
              "    <tr>\n",
              "      <th>75%</th>\n",
              "      <td>7500.25000</td>\n",
              "      <td>1.575323e+07</td>\n",
              "      <td>718.000000</td>\n",
              "      <td>44.000000</td>\n",
              "      <td>7.000000</td>\n",
              "      <td>127644.240000</td>\n",
              "      <td>2.000000</td>\n",
              "      <td>1.00000</td>\n",
              "      <td>1.000000</td>\n",
              "      <td>149388.247500</td>\n",
              "      <td>0.000000</td>\n",
              "    </tr>\n",
              "    <tr>\n",
              "      <th>max</th>\n",
              "      <td>10000.00000</td>\n",
              "      <td>1.581569e+07</td>\n",
              "      <td>850.000000</td>\n",
              "      <td>92.000000</td>\n",
              "      <td>10.000000</td>\n",
              "      <td>250898.090000</td>\n",
              "      <td>4.000000</td>\n",
              "      <td>1.00000</td>\n",
              "      <td>1.000000</td>\n",
              "      <td>199992.480000</td>\n",
              "      <td>1.000000</td>\n",
              "    </tr>\n",
              "  </tbody>\n",
              "</table>\n",
              "</div>"
            ],
            "text/plain": [
              "         RowNumber    CustomerId   CreditScore           Age        Tenure  \\\n",
              "count  10000.00000  1.000000e+04  10000.000000  10000.000000  10000.000000   \n",
              "mean    5000.50000  1.569094e+07    650.528800     38.921800      5.012800   \n",
              "std     2886.89568  7.193619e+04     96.653299     10.487806      2.892174   \n",
              "min        1.00000  1.556570e+07    350.000000     18.000000      0.000000   \n",
              "25%     2500.75000  1.562853e+07    584.000000     32.000000      3.000000   \n",
              "50%     5000.50000  1.569074e+07    652.000000     37.000000      5.000000   \n",
              "75%     7500.25000  1.575323e+07    718.000000     44.000000      7.000000   \n",
              "max    10000.00000  1.581569e+07    850.000000     92.000000     10.000000   \n",
              "\n",
              "             Balance  NumOfProducts    HasCrCard  IsActiveMember  \\\n",
              "count   10000.000000   10000.000000  10000.00000    10000.000000   \n",
              "mean    76485.889288       1.530200      0.70550        0.515100   \n",
              "std     62397.405202       0.581654      0.45584        0.499797   \n",
              "min         0.000000       1.000000      0.00000        0.000000   \n",
              "25%         0.000000       1.000000      0.00000        0.000000   \n",
              "50%     97198.540000       1.000000      1.00000        1.000000   \n",
              "75%    127644.240000       2.000000      1.00000        1.000000   \n",
              "max    250898.090000       4.000000      1.00000        1.000000   \n",
              "\n",
              "       EstimatedSalary        Exited  \n",
              "count     10000.000000  10000.000000  \n",
              "mean     100090.239881      0.203700  \n",
              "std       57510.492818      0.402769  \n",
              "min          11.580000      0.000000  \n",
              "25%       51002.110000      0.000000  \n",
              "50%      100193.915000      0.000000  \n",
              "75%      149388.247500      0.000000  \n",
              "max      199992.480000      1.000000  "
            ]
          },
          "execution_count": 167,
          "metadata": {},
          "output_type": "execute_result"
        }
      ],
      "source": [
        "df.describe()"
      ]
    },
    {
      "cell_type": "code",
      "execution_count": 168,
      "metadata": {
        "colab": {
          "base_uri": "https://localhost:8080/",
          "height": 73
        },
        "id": "ZGV8JS6yKPlS",
        "outputId": "449c5a6a-2eeb-49f4-a1ae-a40b05f47c7b"
      },
      "outputs": [
        {
          "data": {
            "text/html": [
              "<div>\n",
              "<style scoped>\n",
              "    .dataframe tbody tr th:only-of-type {\n",
              "        vertical-align: middle;\n",
              "    }\n",
              "\n",
              "    .dataframe tbody tr th {\n",
              "        vertical-align: top;\n",
              "    }\n",
              "\n",
              "    .dataframe thead th {\n",
              "        text-align: right;\n",
              "    }\n",
              "</style>\n",
              "<table border=\"1\" class=\"dataframe\">\n",
              "  <thead>\n",
              "    <tr style=\"text-align: right;\">\n",
              "      <th></th>\n",
              "      <th>RowNumber</th>\n",
              "      <th>CustomerId</th>\n",
              "      <th>Surname</th>\n",
              "      <th>CreditScore</th>\n",
              "      <th>Geography</th>\n",
              "      <th>Gender</th>\n",
              "      <th>Age</th>\n",
              "      <th>Tenure</th>\n",
              "      <th>Balance</th>\n",
              "      <th>NumOfProducts</th>\n",
              "      <th>HasCrCard</th>\n",
              "      <th>IsActiveMember</th>\n",
              "      <th>EstimatedSalary</th>\n",
              "      <th>Exited</th>\n",
              "    </tr>\n",
              "  </thead>\n",
              "  <tbody>\n",
              "  </tbody>\n",
              "</table>\n",
              "</div>"
            ],
            "text/plain": [
              "Empty DataFrame\n",
              "Columns: [RowNumber, CustomerId, Surname, CreditScore, Geography, Gender, Age, Tenure, Balance, NumOfProducts, HasCrCard, IsActiveMember, EstimatedSalary, Exited]\n",
              "Index: []"
            ]
          },
          "execution_count": 168,
          "metadata": {},
          "output_type": "execute_result"
        }
      ],
      "source": [
        "df[(df['Exited'] != 0)&(df['Exited']!=1)]"
      ]
    },
    {
      "cell_type": "code",
      "execution_count": 169,
      "metadata": {
        "colab": {
          "base_uri": "https://localhost:8080/",
          "height": 178
        },
        "id": "wdtFzt2XKboD",
        "outputId": "b8fbc1f5-f96d-4ac6-bdf0-65e4754e73bc"
      },
      "outputs": [
        {
          "data": {
            "text/plain": [
              "Exited\n",
              "0    7963\n",
              "1    2037\n",
              "Name: count, dtype: int64"
            ]
          },
          "execution_count": 169,
          "metadata": {},
          "output_type": "execute_result"
        }
      ],
      "source": [
        "df['Exited'].value_counts()"
      ]
    },
    {
      "cell_type": "markdown",
      "metadata": {
        "id": "Aca9AbVnKkWh"
      },
      "source": [
        "Thus, this is an unbalanced dataset. Next, I will drop unrelated features"
      ]
    },
    {
      "cell_type": "markdown",
      "metadata": {
        "id": "qZDU2e7gmS9b"
      },
      "source": [
        "### Split Data and apply Dummy Coding"
      ]
    },
    {
      "cell_type": "code",
      "execution_count": 170,
      "metadata": {
        "id": "1mhH6kgxKnKU"
      },
      "outputs": [],
      "source": [
        "X = df.drop(columns = ['Surname', 'Exited', 'CustomerId', 'RowNumber'])\n",
        "y = df['Exited']\n",
        "\n",
        "X_encoded = pd.get_dummies(X, drop_first=True, dtype=float)\n",
        "\n",
        "X_train, X_test, y_train, y_test = train_test_split(X_encoded, y, test_size = 0.3, random_state = 42, stratify = y)"
      ]
    },
    {
      "cell_type": "markdown",
      "metadata": {
        "id": "zjQGIuukmS9b"
      },
      "source": [
        "### Scaling (excluding binary columns)"
      ]
    },
    {
      "cell_type": "code",
      "execution_count": 171,
      "metadata": {
        "id": "QpAk2PqwmS9b"
      },
      "outputs": [],
      "source": [
        "scaler = StandardScaler()\n",
        "numerical_features = ['CreditScore', 'Age', 'Balance', 'NumOfProducts', 'EstimatedSalary']\n",
        "\n",
        "# Convert scaled NumPy array back to DataFrame\n",
        "X_train_scaled = pd.DataFrame(scaler.fit_transform(X_train[numerical_features]),\n",
        "                              columns=numerical_features, index=X_train.index)\n",
        "\n",
        "X_test_scaled = pd.DataFrame(scaler.transform(X_test[numerical_features]),\n",
        "                             columns=numerical_features, index=X_test.index)"
      ]
    },
    {
      "cell_type": "code",
      "execution_count": 172,
      "metadata": {
        "id": "o1iCWd3osbw0"
      },
      "outputs": [],
      "source": [
        "# Concat dataframe back\n",
        "X_train_final = pd.concat([X_train_scaled, X_train.drop(columns=numerical_features)], axis=1)\n",
        "X_test_final = pd.concat([X_test_scaled, X_test.drop(columns=numerical_features)], axis=1)"
      ]
    },
    {
      "cell_type": "markdown",
      "metadata": {
        "id": "H0Q4_KAcmS9c"
      },
      "source": [
        "### Resampling using SMOTE (Synthetic Minority Over-sampling Technique)"
      ]
    },
    {
      "cell_type": "code",
      "execution_count": 173,
      "metadata": {
        "colab": {
          "base_uri": "https://localhost:8080/"
        },
        "id": "A1fYoWYpueBc",
        "outputId": "ac02331a-7120-49ba-d6b5-f9d1a6906a26"
      },
      "outputs": [
        {
          "name": "stdout",
          "output_type": "stream",
          "text": [
            "Exited\n",
            "0    5574\n",
            "1    1426\n",
            "Name: count, dtype: int64\n",
            "Exited\n",
            "0    0.796286\n",
            "1    0.203714\n",
            "Name: proportion, dtype: float64\n"
          ]
        }
      ],
      "source": [
        "print(y_train.value_counts())\n",
        "print(y_train.value_counts(normalize = True))"
      ]
    },
    {
      "cell_type": "code",
      "execution_count": 174,
      "metadata": {
        "colab": {
          "base_uri": "https://localhost:8080/"
        },
        "id": "F1cW8DeTv747",
        "outputId": "d228d5e2-92b5-4c22-d0a7-274e36c11a42"
      },
      "outputs": [
        {
          "name": "stdout",
          "output_type": "stream",
          "text": [
            "Proportion of positive class / negative class: 0.2558\n"
          ]
        }
      ],
      "source": [
        "print(f'Proportion of positive class / negative class: {y_train.value_counts()[1]/y_train.value_counts()[0]:.4f}')"
      ]
    },
    {
      "cell_type": "code",
      "execution_count": 175,
      "metadata": {
        "id": "ttMWSaihmS9c"
      },
      "outputs": [],
      "source": [
        "desired_ratio = 0.7  # the minority class becomes 70% of the majority class size\n",
        "\n",
        "smote = SMOTE(sampling_strategy=desired_ratio, random_state=42)\n",
        "X_resampled, y_resampled = smote.fit_resample(X_train_final, y_train)"
      ]
    },
    {
      "cell_type": "code",
      "execution_count": 176,
      "metadata": {
        "colab": {
          "base_uri": "https://localhost:8080/"
        },
        "id": "OdqopVn3t3JV",
        "outputId": "03a6377d-6cca-4414-bdca-b621a3f5a8e0"
      },
      "outputs": [
        {
          "name": "stdout",
          "output_type": "stream",
          "text": [
            "Exited\n",
            "0    5574\n",
            "1    3901\n",
            "Name: count, dtype: int64\n",
            "Exited\n",
            "0    0.588285\n",
            "1    0.411715\n",
            "Name: proportion, dtype: float64\n"
          ]
        }
      ],
      "source": [
        "print(y_resampled.value_counts())\n",
        "print(y_resampled.value_counts(normalize = True))"
      ]
    },
    {
      "cell_type": "code",
      "execution_count": 177,
      "metadata": {
        "colab": {
          "base_uri": "https://localhost:8080/"
        },
        "id": "8RYONyuZwCff",
        "outputId": "77e90eac-bf3a-4f95-a778-20c4cc605452"
      },
      "outputs": [
        {
          "name": "stdout",
          "output_type": "stream",
          "text": [
            "Proportion of positive class / negative class: 0.6999\n"
          ]
        }
      ],
      "source": [
        "print(f'Proportion of positive class / negative class: {y_resampled.value_counts()[1]/y_resampled.value_counts()[0]:.4f}')"
      ]
    },
    {
      "cell_type": "markdown",
      "metadata": {
        "id": "g2SnTE5QmS9c"
      },
      "source": [
        "## Data Prediction"
      ]
    },
    {
      "cell_type": "code",
      "execution_count": 178,
      "metadata": {
        "id": "T7qCVVqROEjI"
      },
      "outputs": [],
      "source": [
        "features = torch.tensor(X_resampled.to_numpy()).float()\n",
        "target = torch.tensor(y_resampled.to_numpy()).float()\n",
        "\n",
        "dataset = TensorDataset(features, target)\n",
        "train_size = int(0.8 * len(dataset))  # 80% for training\n",
        "val_size = len(dataset) - train_size  # 20% for validation\n",
        "\n",
        "train_dataset, val_dataset = random_split(dataset, [train_size, val_size])\n",
        "train_loader = DataLoader(train_dataset, batch_size=16, shuffle = True)\n",
        "val_loader = DataLoader(val_dataset, batch_size=16, shuffle = True)"
      ]
    },
    {
      "cell_type": "code",
      "execution_count": 179,
      "metadata": {
        "id": "OblPvu0tW9SJ"
      },
      "outputs": [],
      "source": [
        "class Net(nn.Module):\n",
        "    def __init__(self, input_dim):\n",
        "        super().__init__()\n",
        "        self.fc1 = nn.Linear(input_dim, 32)\n",
        "        self.bn1 = nn.BatchNorm1d(32)\n",
        "        self.fc2 = nn.Linear(32, 16)\n",
        "        self.bn2 = nn.BatchNorm1d(16)\n",
        "        self.fc3 = nn.Linear(16, 8)\n",
        "        self.bn3 = nn.BatchNorm1d(8)\n",
        "        self.fc4 = nn.Linear(8, 4)\n",
        "        self.bn4 = nn.BatchNorm1d(4)\n",
        "        self.fc5 = nn.Linear(4, 1)\n",
        "\n",
        "        init.kaiming_uniform_(self.fc1.weight)\n",
        "        init.kaiming_uniform_(self.fc2.weight)\n",
        "        init.kaiming_uniform_(self.fc3.weight)\n",
        "        init.kaiming_uniform_(self.fc4.weight)\n",
        "        init.kaiming_uniform_(self.fc5.weight, nonlinearity=\"sigmoid\")\n",
        "\n",
        "    def forward(self, x):\n",
        "        x = self.fc1(x)\n",
        "        x = self.bn1(x)\n",
        "        x = nn.functional.elu(x)\n",
        "\n",
        "        x = self.fc2(x)\n",
        "        x = self.bn2(x)\n",
        "        x = nn.functional.elu(x)\n",
        "\n",
        "        x = self.fc3(x)\n",
        "        x = self.bn3(x)\n",
        "        x = nn.functional.elu(x)\n",
        "\n",
        "        x = self.fc4(x)\n",
        "        x = self.bn4(x)\n",
        "        x = nn.functional.elu(x)\n",
        "\n",
        "        x = nn.functional.sigmoid(self.fc5(x))\n",
        "        return x\n",
        "input_dim = X_train.shape[1]\n",
        "model = Net(input_dim)"
      ]
    },
    {
      "cell_type": "code",
      "execution_count": 180,
      "metadata": {
        "id": "wPKHhVh7mS9d"
      },
      "outputs": [],
      "source": [
        "criterion = nn.BCELoss()\n",
        "optimizer = optim.Adam(model.parameters(), lr=0.0002)"
      ]
    },
    {
      "cell_type": "code",
      "execution_count": 181,
      "metadata": {
        "id": "W035uHTWQH0u"
      },
      "outputs": [],
      "source": [
        "# Early stopping parameters\n",
        "patience = 10 # Number of epochs to wait before stopping\n",
        "min_val_loss = float('inf') # Initialize with a very high value\n",
        "count = 0 # Tracks how many epochs the val_loss hasn't improved\n",
        "best_model_state = None\n",
        "\n",
        "# epoch\n",
        "num_epochs = 200\n",
        "train_loss = []\n",
        "val_loss = []"
      ]
    },
    {
      "cell_type": "code",
      "execution_count": null,
      "metadata": {
        "colab": {
          "base_uri": "https://localhost:8080/"
        },
        "id": "U4dOHd4oPgVu",
        "outputId": "c7cd2c19-8296-4ee4-e79a-640c55bfb760"
      },
      "outputs": [
        {
          "name": "stdout",
          "output_type": "stream",
          "text": [
            "Epoch 1/200 - Train Loss: 0.6605, Val Loss: 0.6210\n",
            "Epoch 2/200 - Train Loss: 0.5931, Val Loss: 0.5812\n",
            "Epoch 3/200 - Train Loss: 0.5642, Val Loss: 0.5620\n",
            "Epoch 4/200 - Train Loss: 0.5476, Val Loss: 0.5410\n",
            "Epoch 5/200 - Train Loss: 0.5304, Val Loss: 0.5260\n",
            "Epoch 6/200 - Train Loss: 0.5172, Val Loss: 0.5141\n",
            "Epoch 7/200 - Train Loss: 0.5022, Val Loss: 0.4972\n",
            "Epoch 8/200 - Train Loss: 0.4967, Val Loss: 0.4846\n",
            "Epoch 9/200 - Train Loss: 0.4927, Val Loss: 0.4782\n",
            "Epoch 10/200 - Train Loss: 0.4860, Val Loss: 0.4755\n",
            "Epoch 11/200 - Train Loss: 0.4817, Val Loss: 0.4702\n",
            "Epoch 12/200 - Train Loss: 0.4794, Val Loss: 0.4634\n",
            "Epoch 13/200 - Train Loss: 0.4813, Val Loss: 0.4627\n",
            "Epoch 14/200 - Train Loss: 0.4770, Val Loss: 0.4675\n",
            "Epoch 15/200 - Train Loss: 0.4709, Val Loss: 0.4615\n",
            "Epoch 16/200 - Train Loss: 0.4736, Val Loss: 0.4594\n",
            "Epoch 17/200 - Train Loss: 0.4768, Val Loss: 0.4607\n",
            "Epoch 18/200 - Train Loss: 0.4694, Val Loss: 0.4627\n",
            "Epoch 19/200 - Train Loss: 0.4736, Val Loss: 0.4570\n",
            "Epoch 20/200 - Train Loss: 0.4738, Val Loss: 0.4598\n",
            "Epoch 21/200 - Train Loss: 0.4677, Val Loss: 0.4576\n",
            "Epoch 22/200 - Train Loss: 0.4737, Val Loss: 0.4517\n",
            "Epoch 23/200 - Train Loss: 0.4706, Val Loss: 0.4510\n",
            "Epoch 24/200 - Train Loss: 0.4690, Val Loss: 0.4475\n",
            "Epoch 25/200 - Train Loss: 0.4692, Val Loss: 0.4515\n",
            "Epoch 26/200 - Train Loss: 0.4686, Val Loss: 0.4511\n",
            "Epoch 27/200 - Train Loss: 0.4704, Val Loss: 0.4569\n",
            "Epoch 28/200 - Train Loss: 0.4656, Val Loss: 0.4510\n",
            "Epoch 29/200 - Train Loss: 0.4664, Val Loss: 0.4528\n",
            "Epoch 30/200 - Train Loss: 0.4674, Val Loss: 0.4515\n",
            "Epoch 31/200 - Train Loss: 0.4630, Val Loss: 0.4521\n",
            "Epoch 32/200 - Train Loss: 0.4593, Val Loss: 0.4520\n",
            "Epoch 33/200 - Train Loss: 0.4634, Val Loss: 0.4562\n",
            "Epoch 34/200 - Train Loss: 0.4595, Val Loss: 0.4470\n",
            "Epoch 35/200 - Train Loss: 0.4655, Val Loss: 0.4468\n",
            "Epoch 36/200 - Train Loss: 0.4602, Val Loss: 0.4438\n",
            "Epoch 37/200 - Train Loss: 0.4691, Val Loss: 0.4453\n",
            "Epoch 38/200 - Train Loss: 0.4561, Val Loss: 0.4529\n",
            "Epoch 39/200 - Train Loss: 0.4584, Val Loss: 0.4448\n",
            "Epoch 40/200 - Train Loss: 0.4566, Val Loss: 0.4439\n",
            "Epoch 41/200 - Train Loss: 0.4608, Val Loss: 0.4445\n",
            "Epoch 42/200 - Train Loss: 0.4567, Val Loss: 0.4492\n",
            "Epoch 43/200 - Train Loss: 0.4614, Val Loss: 0.4537\n",
            "Epoch 44/200 - Train Loss: 0.4570, Val Loss: 0.4451\n",
            "Epoch 45/200 - Train Loss: 0.4593, Val Loss: 0.4485\n",
            "Epoch 46/200 - Train Loss: 0.4601, Val Loss: 0.4434\n",
            "Epoch 47/200 - Train Loss: 0.4580, Val Loss: 0.4467\n",
            "Epoch 48/200 - Train Loss: 0.4582, Val Loss: 0.4504\n",
            "Epoch 49/200 - Train Loss: 0.4563, Val Loss: 0.4433\n",
            "Epoch 50/200 - Train Loss: 0.4533, Val Loss: 0.4447\n",
            "Epoch 51/200 - Train Loss: 0.4521, Val Loss: 0.4422\n",
            "Epoch 52/200 - Train Loss: 0.4581, Val Loss: 0.4473\n",
            "Epoch 53/200 - Train Loss: 0.4571, Val Loss: 0.4436\n",
            "Epoch 54/200 - Train Loss: 0.4606, Val Loss: 0.4447\n",
            "Epoch 55/200 - Train Loss: 0.4550, Val Loss: 0.4415\n",
            "Epoch 56/200 - Train Loss: 0.4590, Val Loss: 0.4410\n",
            "Epoch 57/200 - Train Loss: 0.4530, Val Loss: 0.4405\n",
            "Epoch 58/200 - Train Loss: 0.4489, Val Loss: 0.4400\n",
            "Epoch 59/200 - Train Loss: 0.4523, Val Loss: 0.4415\n",
            "Epoch 60/200 - Train Loss: 0.4499, Val Loss: 0.4449\n",
            "Epoch 61/200 - Train Loss: 0.4558, Val Loss: 0.4419\n",
            "Epoch 62/200 - Train Loss: 0.4479, Val Loss: 0.4420\n",
            "Epoch 63/200 - Train Loss: 0.4533, Val Loss: 0.4439\n",
            "Epoch 64/200 - Train Loss: 0.4496, Val Loss: 0.4402\n",
            "Epoch 65/200 - Train Loss: 0.4531, Val Loss: 0.4389\n",
            "Epoch 66/200 - Train Loss: 0.4508, Val Loss: 0.4393\n",
            "Epoch 67/200 - Train Loss: 0.4474, Val Loss: 0.4414\n",
            "Epoch 68/200 - Train Loss: 0.4475, Val Loss: 0.4418\n",
            "Epoch 69/200 - Train Loss: 0.4456, Val Loss: 0.4386\n",
            "Epoch 70/200 - Train Loss: 0.4559, Val Loss: 0.4379\n",
            "Epoch 71/200 - Train Loss: 0.4481, Val Loss: 0.4372\n",
            "Epoch 72/200 - Train Loss: 0.4528, Val Loss: 0.4393\n",
            "Epoch 73/200 - Train Loss: 0.4513, Val Loss: 0.4385\n",
            "Epoch 74/200 - Train Loss: 0.4450, Val Loss: 0.4380\n",
            "Epoch 75/200 - Train Loss: 0.4465, Val Loss: 0.4407\n",
            "Epoch 76/200 - Train Loss: 0.4515, Val Loss: 0.4357\n",
            "Epoch 77/200 - Train Loss: 0.4492, Val Loss: 0.4375\n",
            "Epoch 78/200 - Train Loss: 0.4523, Val Loss: 0.4449\n",
            "Epoch 79/200 - Train Loss: 0.4446, Val Loss: 0.4369\n",
            "Epoch 80/200 - Train Loss: 0.4479, Val Loss: 0.4389\n",
            "Epoch 81/200 - Train Loss: 0.4460, Val Loss: 0.4382\n",
            "Epoch 82/200 - Train Loss: 0.4497, Val Loss: 0.4373\n",
            "Epoch 83/200 - Train Loss: 0.4455, Val Loss: 0.4363\n",
            "Epoch 84/200 - Train Loss: 0.4454, Val Loss: 0.4333\n",
            "Epoch 85/200 - Train Loss: 0.4463, Val Loss: 0.4389\n",
            "Epoch 86/200 - Train Loss: 0.4461, Val Loss: 0.4349\n",
            "Epoch 87/200 - Train Loss: 0.4391, Val Loss: 0.4344\n",
            "Epoch 88/200 - Train Loss: 0.4468, Val Loss: 0.4379\n",
            "Epoch 89/200 - Train Loss: 0.4470, Val Loss: 0.4400\n",
            "Epoch 90/200 - Train Loss: 0.4431, Val Loss: 0.4393\n",
            "Epoch 91/200 - Train Loss: 0.4443, Val Loss: 0.4341\n",
            "Epoch 92/200 - Train Loss: 0.4460, Val Loss: 0.4348\n",
            "Epoch 93/200 - Train Loss: 0.4395, Val Loss: 0.4371\n",
            "Epoch 94/200 - Train Loss: 0.4464, Val Loss: 0.4318\n",
            "Epoch 95/200 - Train Loss: 0.4420, Val Loss: 0.4337\n",
            "Epoch 96/200 - Train Loss: 0.4460, Val Loss: 0.4360\n",
            "Epoch 97/200 - Train Loss: 0.4442, Val Loss: 0.4329\n",
            "Epoch 98/200 - Train Loss: 0.4484, Val Loss: 0.4310\n",
            "Epoch 99/200 - Train Loss: 0.4436, Val Loss: 0.4326\n",
            "Epoch 100/200 - Train Loss: 0.4372, Val Loss: 0.4411\n",
            "Epoch 101/200 - Train Loss: 0.4467, Val Loss: 0.4322\n",
            "Epoch 102/200 - Train Loss: 0.4427, Val Loss: 0.4329\n",
            "Epoch 103/200 - Train Loss: 0.4368, Val Loss: 0.4364\n",
            "Epoch 104/200 - Train Loss: 0.4424, Val Loss: 0.4359\n",
            "Epoch 105/200 - Train Loss: 0.4433, Val Loss: 0.4398\n",
            "Epoch 106/200 - Train Loss: 0.4402, Val Loss: 0.4386\n",
            "Epoch 107/200 - Train Loss: 0.4438, Val Loss: 0.4389\n",
            "Epoch 108/200 - Train Loss: 0.4412, Val Loss: 0.4322\n",
            "Early stopping triggered at epoch 108. Best Val Loss: 0.4310 at Epoch: 98/200\n",
            "None\n"
          ]
        },
        {
          "data": {
            "text/plain": [
              "Net(\n",
              "  (fc1): Linear(in_features=11, out_features=32, bias=True)\n",
              "  (bn1): BatchNorm1d(32, eps=1e-05, momentum=0.1, affine=True, track_running_stats=True)\n",
              "  (fc2): Linear(in_features=32, out_features=16, bias=True)\n",
              "  (bn2): BatchNorm1d(16, eps=1e-05, momentum=0.1, affine=True, track_running_stats=True)\n",
              "  (fc3): Linear(in_features=16, out_features=8, bias=True)\n",
              "  (bn3): BatchNorm1d(8, eps=1e-05, momentum=0.1, affine=True, track_running_stats=True)\n",
              "  (fc4): Linear(in_features=8, out_features=4, bias=True)\n",
              "  (bn4): BatchNorm1d(4, eps=1e-05, momentum=0.1, affine=True, track_running_stats=True)\n",
              "  (fc5): Linear(in_features=4, out_features=1, bias=True)\n",
              ")"
            ]
          },
          "execution_count": 182,
          "metadata": {},
          "output_type": "execute_result"
        }
      ],
      "source": [
        "for epoch in range(num_epochs):\n",
        "    model.train()\n",
        "    training_loss = 0.0\n",
        "\n",
        "    for data in train_loader:\n",
        "        # Set the gradients to zero\n",
        "        optimizer.zero_grad()\n",
        "        feature, target = data\n",
        "        pred = model(feature)\n",
        "\n",
        "        loss = criterion(pred.squeeze(), target.float())\n",
        "        loss.backward()\n",
        "        optimizer.step()\n",
        "\n",
        "        training_loss += loss.item()\n",
        "\n",
        "    epoch_train_loss = training_loss / len(train_loader)\n",
        "    train_loss.append(epoch_train_loss)\n",
        "\n",
        "    # Validation Phase\n",
        "    model.eval()\n",
        "    validation_loss = 0.0\n",
        "\n",
        "    with torch.no_grad():\n",
        "        for data in val_loader:\n",
        "            feature, target = data\n",
        "            pred = model(feature)\n",
        "\n",
        "            loss = criterion(pred.squeeze(), target.float())\n",
        "            validation_loss += loss.item()\n",
        "\n",
        "    epoch_val_loss = validation_loss / len(val_loader)\n",
        "    val_loss.append(epoch_val_loss)\n",
        "\n",
        "    print(f\"Epoch {epoch+1}/{num_epochs} - Train Loss: {epoch_train_loss:.4f}, Val Loss: {epoch_val_loss:.4f}\")\n",
        "\n",
        "    # Early Stopping check\n",
        "    if epoch_val_loss < min_val_loss:\n",
        "      min_val_loss = epoch_val_loss\n",
        "      count = 0\n",
        "      best_epoch = epoch\n",
        "\n",
        "      # Store the best model so the model will not keep the last-trained weights instead of the best-performing ones\n",
        "      best_model_state = model.state_dict()\n",
        "    else:\n",
        "      count += 1\n",
        "      if count >= patience:\n",
        "        epoch = epoch + 1 # assign variable for plotting\n",
        "        print(print(f\"Early stopping triggered at epoch {epoch}. Best Val Loss: {min_val_loss:.4f} at Epoch: {best_epoch}/{num_epochs}\"))\n",
        "        break\n",
        "\n",
        "model.train()"
      ]
    },
    {
      "cell_type": "code",
      "execution_count": 194,
      "metadata": {
        "colab": {
          "base_uri": "https://localhost:8080/",
          "height": 455
        },
        "id": "dUF4lLXUmS9e",
        "outputId": "9a70b921-ba32-4a56-b304-c8675c3519a3"
      },
      "outputs": [
        {
          "data": {
            "image/png": "[encoded data removed]",
            "text/plain": [
              "<Figure size 1200x600 with 1 Axes>"
            ]
          },
          "metadata": {},
          "output_type": "display_data"
        }
      ],
      "source": [
        "mean_train_loss = sum(train_loss) / len(train_loss)\n",
        "mean_val_loss = sum(val_loss) / len(val_loss)\n",
        "\n",
        "# Plot the Loss Curve\n",
        "if num_epochs > epoch + 1:\n",
        "    range_epoch = epoch\n",
        "else: range_epoch = num_epochs\n",
        "\n",
        "plt.figure(figsize = (12, 6))\n",
        "plt.plot(range(1, range_epoch + 1), train_loss, label=f'Training Loss (Mean: {mean_train_loss:.4f})', marker='o')\n",
        "plt.plot(range(1, range_epoch + 1), val_loss, label=f'Validation Loss (Mean: {mean_val_loss:.4f})', marker='s')\n",
        "\n",
        "plt.xlabel('Epochs')\n",
        "plt.ylabel('Loss')\n",
        "plt.title('Training & Validation Loss Over Epochs')\n",
        "plt.legend()\n",
        "plt.grid()\n",
        "plt.show()"
      ]
    },
    {
      "cell_type": "markdown",
      "metadata": {
        "id": "4OBpEVdF39Pi"
      },
      "source": [
        "##### Training loss is close and a bit higher than validation loss; the model generalizes well and does not overfit."
      ]
    },
    {
      "cell_type": "code",
      "execution_count": 195,
      "metadata": {
        "id": "JK9zEAm2Vl4-"
      },
      "outputs": [],
      "source": [
        "if best_model_state:\n",
        "    model.load_state_dict(best_model_state)"
      ]
    },
    {
      "cell_type": "code",
      "execution_count": 196,
      "metadata": {
        "id": "Fajmp4AVSVOR"
      },
      "outputs": [],
      "source": [
        "features_test = torch.tensor(X_test_final.to_numpy()).float()\n",
        "target_test = torch.tensor(y_test.to_numpy()).float()\n",
        "\n",
        "test_dataset = TensorDataset(features_test, target_test)\n",
        "test_loader = DataLoader(test_dataset, batch_size = 16, shuffle = True)"
      ]
    },
    {
      "cell_type": "code",
      "execution_count": 197,
      "metadata": {
        "colab": {
          "base_uri": "https://localhost:8080/"
        },
        "id": "g_aJiR79SdGs",
        "outputId": "8edfaf6f-9fa6-4ce3-a273-1120193f79fd"
      },
      "outputs": [
        {
          "name": "stdout",
          "output_type": "stream",
          "text": [
            "Testing Loss: 0.3785\n"
          ]
        }
      ],
      "source": [
        "model.eval()\n",
        "\n",
        "testing_loss = 0.0\n",
        "correct = 0\n",
        "total = 0\n",
        "all_preds = []\n",
        "all_targets = []\n",
        "all_probs = []\n",
        "\n",
        "threshold = 0.50\n",
        "\n",
        "with torch.no_grad():\n",
        "    for data in test_loader:\n",
        "        feature, target = data\n",
        "        pred = model(feature)\n",
        "\n",
        "        loss = criterion(pred.squeeze(), target.float())\n",
        "        testing_loss += loss.item()\n",
        "\n",
        "        # Compute for Confusion Matrix and Classification report\n",
        "        pred_label = (pred.squeeze() >= threshold).float()\n",
        "        correct += (pred_label == target).sum().item()\n",
        "        total += target.size(0)\n",
        "\n",
        "        # Store results for Confusion Matrix\n",
        "        all_preds.extend(pred_label.cpu().numpy())\n",
        "        all_targets.extend(target.cpu().numpy())\n",
        "\n",
        "        # Store probabilities for Precision-Recall Curve\n",
        "        all_probs.extend(pred.cpu().numpy())\n",
        "\n",
        "average_test_loss = testing_loss / len(test_loader)\n",
        "print(f'Testing Loss: {average_test_loss:.4f}')"
      ]
    },
    {
      "cell_type": "code",
      "execution_count": 198,
      "metadata": {
        "colab": {
          "base_uri": "https://localhost:8080/",
          "height": 472
        },
        "id": "AIYg5KwBV1m-",
        "outputId": "bccfabae-d030-4aeb-c28f-734c96c32d4c"
      },
      "outputs": [
        {
          "data": {
            "image/png": "[encoded data removed]",
            "text/plain": [
              "<Figure size 640x480 with 2 Axes>"
            ]
          },
          "metadata": {},
          "output_type": "display_data"
        }
      ],
      "source": [
        "conf_matrix = confusion_matrix(all_targets, all_preds)\n",
        "\n",
        "sns.heatmap(conf_matrix, annot=True, fmt=\"d\", cmap=\"Blues\")\n",
        "plt.xlabel(\"Predicted Labels\")\n",
        "plt.ylabel(\"True Labels\")\n",
        "plt.title(\"Confusion Matrix\")\n",
        "plt.show()"
      ]
    },
    {
      "cell_type": "markdown",
      "metadata": {
        "id": "HKFc5oIn4VGo"
      },
      "source": [
        "##### Lower FN than Higher FP → The number of customers churning being predicted as not churning is the lowest among the four. Trade-off where more non-churning customers are being misclassified as churning."
      ]
    },
    {
      "cell_type": "code",
      "execution_count": 199,
      "metadata": {
        "colab": {
          "base_uri": "https://localhost:8080/"
        },
        "id": "1hkG71iHWYWS",
        "outputId": "b2e7b8ac-36d8-4eaf-8ee3-5e45909e1068"
      },
      "outputs": [
        {
          "name": "stdout",
          "output_type": "stream",
          "text": [
            "              precision    recall  f1-score   support\n",
            "\n",
            "         0.0       0.91      0.89      0.90      2389\n",
            "         1.0       0.60      0.65      0.62       611\n",
            "\n",
            "    accuracy                           0.84      3000\n",
            "   macro avg       0.75      0.77      0.76      3000\n",
            "weighted avg       0.85      0.84      0.84      3000\n",
            "\n"
          ]
        }
      ],
      "source": [
        "class_report = classification_report(all_targets, all_preds)\n",
        "print(class_report)"
      ]
    },
    {
      "cell_type": "code",
      "execution_count": 200,
      "metadata": {
        "colab": {
          "base_uri": "https://localhost:8080/"
        },
        "id": "kU0bt3ScmS9f",
        "outputId": "844d6847-5db0-47e3-9c49-9af4826ada49"
      },
      "outputs": [
        {
          "name": "stdout",
          "output_type": "stream",
          "text": [
            "Area Under the Precision-Recall Curve (PR AUC): 0.6997\n"
          ]
        }
      ],
      "source": [
        "precision, recall, thresholds = precision_recall_curve(all_targets, all_probs)\n",
        "pr_auc = auc(recall, precision)\n",
        "print(f'Area Under the Precision-Recall Curve (PR AUC): {pr_auc:.4f}')"
      ]
    },
    {
      "cell_type": "code",
      "execution_count": 201,
      "metadata": {
        "colab": {
          "base_uri": "https://localhost:8080/",
          "height": 472
        },
        "id": "A257AJLKmS9f",
        "outputId": "9ac7007a-9e9b-4429-d421-27d677974892"
      },
      "outputs": [
        {
          "data": {
            "image/png": "[encoded data removed]",
            "text/plain": [
              "<Figure size 640x480 with 1 Axes>"
            ]
          },
          "metadata": {},
          "output_type": "display_data"
        }
      ],
      "source": [
        "plt.plot(recall, precision, color = 'skyblue', label='PR-AUC curve (area = {:.2f})'.format(pr_auc))\n",
        "plt.plot([1, 0], [0, 1], color='gray', linestyle='--') # random classifier line\n",
        "plt.xlim([0.0, 1.0]) # set the limits of the x-axis\n",
        "plt.ylim([0.0, 1.0])\n",
        "plt.xlabel('Recall')\n",
        "plt.ylabel('Precision')\n",
        "plt.title('Precision-Recall Curve')\n",
        "plt.legend(loc='lower right')\n",
        "plt.grid()\n",
        "plt.show()"
      ]
    },
    {
      "cell_type": "markdown",
      "metadata": {
        "id": "nHLYnG524LAR"
      },
      "source": [
        "##### The PR curve drops sharply: the model loses precision as recall increases"
      ]
    },
    {
      "cell_type": "markdown",
      "metadata": {
        "id": "omrMB9UwY45M"
      },
      "source": [
        "### Extract feature weights from model"
      ]
    },
    {
      "cell_type": "code",
      "execution_count": 191,
      "metadata": {
        "colab": {
          "base_uri": "https://localhost:8080/"
        },
        "id": "EOg2X_bkY45Z",
        "outputId": "5dd904d0-ecf1-401d-bccf-3f02d8a26a8d"
      },
      "outputs": [
        {
          "name": "stdout",
          "output_type": "stream",
          "text": [
            "odict_keys(['fc1.weight', 'fc1.bias', 'bn1.weight', 'bn1.bias', 'bn1.running_mean', 'bn1.running_var', 'bn1.num_batches_tracked', 'fc2.weight', 'fc2.bias', 'bn2.weight', 'bn2.bias', 'bn2.running_mean', 'bn2.running_var', 'bn2.num_batches_tracked', 'fc3.weight', 'fc3.bias', 'bn3.weight', 'bn3.bias', 'bn3.running_mean', 'bn3.running_var', 'bn3.num_batches_tracked', 'fc4.weight', 'fc4.bias', 'bn4.weight', 'bn4.bias', 'bn4.running_mean', 'bn4.running_var', 'bn4.num_batches_tracked', 'fc5.weight', 'fc5.bias'])\n"
          ]
        }
      ],
      "source": [
        "state_dict = model.state_dict()\n",
        "print(state_dict.keys())"
      ]
    },
    {
      "cell_type": "code",
      "execution_count": 192,
      "metadata": {
        "colab": {
          "base_uri": "https://localhost:8080/"
        },
        "id": "6BIxm6hyY45a",
        "outputId": "79806880-a956-4bcd-8b4f-7d4876232e4d"
      },
      "outputs": [
        {
          "name": "stdout",
          "output_type": "stream",
          "text": [
            "IsActiveMember: 0.943025529384613\n",
            "Geography_Spain: 0.7594209313392639\n",
            "Gender_Male: 0.657684862613678\n",
            "Age: 0.5748740434646606\n",
            "Tenure: 0.17520423233509064\n",
            "Balance: -0.044591646641492844\n",
            "CreditScore: -0.22913886606693268\n",
            "EstimatedSalary: -0.23696161806583405\n",
            "HasCrCard: -0.48544037342071533\n",
            "Geography_Germany: -0.4920036494731903\n",
            "NumOfProducts: -0.5431128144264221\n"
          ]
        }
      ],
      "source": [
        "first_layer_weights = state_dict['fc1.weight']\n",
        "feature_importance = first_layer_weights.detach().numpy().flatten() # deteach = perform operation on tensor but not track gradient descent\n",
        "feature_names = X_test_final.columns\n",
        "importance_dict = dict(zip(feature_names, feature_importance))\n",
        "\n",
        "sorted_importance = sorted(importance_dict.items(), key=lambda x: x[1], reverse=True)\n",
        "for feature, importance in sorted_importance:\n",
        "    print(f\"{feature}: {importance}\")"
      ]
    },
    {
      "cell_type": "code",
      "execution_count": 193,
      "metadata": {
        "colab": {
          "base_uri": "https://localhost:8080/",
          "height": 408
        },
        "id": "Y_tDE3_7Y45b",
        "outputId": "985f2c51-0738-46ea-9607-7ae0f082987a"
      },
      "outputs": [
        {
          "data": {
            "image/png": "[encoded data removed]",
            "text/plain": [
              "<Figure size 1000x500 with 1 Axes>"
            ]
          },
          "metadata": {},
          "output_type": "display_data"
        }
      ],
      "source": [
        "sorted_features = [f[0] for f in sorted_importance]\n",
        "sorted_values = [f[1] for f in sorted_importance]\n",
        "\n",
        "plt.figure(figsize=(10,5))\n",
        "plt.barh(sorted_features, sorted_values, color='skyblue')\n",
        "plt.xlabel(\"Feature Importance\")\n",
        "plt.ylabel(\"Features\")\n",
        "plt.title(\"Feature Importance in Linear Neural Network\")\n",
        "plt.gca().invert_yaxis()\n",
        "plt.show()"
      ]
    }
  ],
  "metadata": {
    "colab": {
      "provenance": []
    },
    "kernelspec": {
      "display_name": "Python 3",
      "name": "python3"
    },
    "language_info": {
      "codemirror_mode": {
        "name": "ipython",
        "version": 3
      },
      "file_extension": ".py",
      "mimetype": "text/x-python",
      "name": "python",
      "nbconvert_exporter": "python",
      "pygments_lexer": "ipython3",
      "version": "3.12.9"
    }
  },
  "nbformat": 4,
  "nbformat_minor": 0
}
