{
 "cells": [
  {
   "cell_type": "markdown",
   "metadata": {},
   "source": [
    "# Bank Churn Neural Network Model"
   ]
  },
  {
   "cell_type": "code",
   "execution_count": 151,
   "metadata": {
    "executionInfo": {
     "elapsed": 63,
     "status": "ok",
     "timestamp": 1740642237531,
     "user": {
      "displayName": "Terra Keeratinavanant",
      "userId": "00133216191144992865"
     },
     "user_tz": -420
    },
    "id": "QlgQPDosICU1"
   },
   "outputs": [],
   "source": [
    "import pandas as pd\n",
    "import matplotlib.pyplot as plt\n",
    "import seaborn as sns\n",
    "import numpy as np\n",
    "\n",
    "from sklearn.preprocessing import StandardScaler, MinMaxScaler\n",
    "from sklearn.model_selection import train_test_split\n",
    "from sklearn.metrics import confusion_matrix, classification_report, precision_recall_curve, auc\n",
    "\n",
    "from imblearn.over_sampling import SMOTE\n",
    "\n",
    "import torch\n",
    "from torch.utils.data import TensorDataset, DataLoader, random_split\n",
    "import torch.nn as nn\n",
    "import torch.optim as optim"
   ]
  },
  {
   "cell_type": "markdown",
   "metadata": {},
   "source": [
    "## Data Preprocessing"
   ]
  },
  {
   "cell_type": "code",
   "execution_count": 152,
   "metadata": {
    "colab": {
     "base_uri": "https://localhost:8080/",
     "height": 206
    },
    "executionInfo": {
     "elapsed": 102,
     "status": "ok",
     "timestamp": 1740642237636,
     "user": {
      "displayName": "Terra Keeratinavanant",
      "userId": "00133216191144992865"
     },
     "user_tz": -420
    },
    "id": "5BL7bHeIIWVQ",
    "outputId": "910609fb-964f-4a78-96a7-38a88b1a79c4"
   },
   "outputs": [
    {
     "data": {
      "text/html": [
       "<div>\n",
       "<style scoped>\n",
       "    .dataframe tbody tr th:only-of-type {\n",
       "        vertical-align: middle;\n",
       "    }\n",
       "\n",
       "    .dataframe tbody tr th {\n",
       "        vertical-align: top;\n",
       "    }\n",
       "\n",
       "    .dataframe thead th {\n",
       "        text-align: right;\n",
       "    }\n",
       "</style>\n",
       "<table border=\"1\" class=\"dataframe\">\n",
       "  <thead>\n",
       "    <tr style=\"text-align: right;\">\n",
       "      <th></th>\n",
       "      <th>RowNumber</th>\n",
       "      <th>CustomerId</th>\n",
       "      <th>Surname</th>\n",
       "      <th>CreditScore</th>\n",
       "      <th>Geography</th>\n",
       "      <th>Gender</th>\n",
       "      <th>Age</th>\n",
       "      <th>Tenure</th>\n",
       "      <th>Balance</th>\n",
       "      <th>NumOfProducts</th>\n",
       "      <th>HasCrCard</th>\n",
       "      <th>IsActiveMember</th>\n",
       "      <th>EstimatedSalary</th>\n",
       "      <th>Exited</th>\n",
       "    </tr>\n",
       "  </thead>\n",
       "  <tbody>\n",
       "    <tr>\n",
       "      <th>0</th>\n",
       "      <td>1</td>\n",
       "      <td>15634602</td>\n",
       "      <td>Hargrave</td>\n",
       "      <td>619</td>\n",
       "      <td>France</td>\n",
       "      <td>Female</td>\n",
       "      <td>42</td>\n",
       "      <td>2</td>\n",
       "      <td>0.00</td>\n",
       "      <td>1</td>\n",
       "      <td>1</td>\n",
       "      <td>1</td>\n",
       "      <td>101348.88</td>\n",
       "      <td>1</td>\n",
       "    </tr>\n",
       "    <tr>\n",
       "      <th>1</th>\n",
       "      <td>2</td>\n",
       "      <td>15647311</td>\n",
       "      <td>Hill</td>\n",
       "      <td>608</td>\n",
       "      <td>Spain</td>\n",
       "      <td>Female</td>\n",
       "      <td>41</td>\n",
       "      <td>1</td>\n",
       "      <td>83807.86</td>\n",
       "      <td>1</td>\n",
       "      <td>0</td>\n",
       "      <td>1</td>\n",
       "      <td>112542.58</td>\n",
       "      <td>0</td>\n",
       "    </tr>\n",
       "    <tr>\n",
       "      <th>2</th>\n",
       "      <td>3</td>\n",
       "      <td>15619304</td>\n",
       "      <td>Onio</td>\n",
       "      <td>502</td>\n",
       "      <td>France</td>\n",
       "      <td>Female</td>\n",
       "      <td>42</td>\n",
       "      <td>8</td>\n",
       "      <td>159660.80</td>\n",
       "      <td>3</td>\n",
       "      <td>1</td>\n",
       "      <td>0</td>\n",
       "      <td>113931.57</td>\n",
       "      <td>1</td>\n",
       "    </tr>\n",
       "    <tr>\n",
       "      <th>3</th>\n",
       "      <td>4</td>\n",
       "      <td>15701354</td>\n",
       "      <td>Boni</td>\n",
       "      <td>699</td>\n",
       "      <td>France</td>\n",
       "      <td>Female</td>\n",
       "      <td>39</td>\n",
       "      <td>1</td>\n",
       "      <td>0.00</td>\n",
       "      <td>2</td>\n",
       "      <td>0</td>\n",
       "      <td>0</td>\n",
       "      <td>93826.63</td>\n",
       "      <td>0</td>\n",
       "    </tr>\n",
       "    <tr>\n",
       "      <th>4</th>\n",
       "      <td>5</td>\n",
       "      <td>15737888</td>\n",
       "      <td>Mitchell</td>\n",
       "      <td>850</td>\n",
       "      <td>Spain</td>\n",
       "      <td>Female</td>\n",
       "      <td>43</td>\n",
       "      <td>2</td>\n",
       "      <td>125510.82</td>\n",
       "      <td>1</td>\n",
       "      <td>1</td>\n",
       "      <td>1</td>\n",
       "      <td>79084.10</td>\n",
       "      <td>0</td>\n",
       "    </tr>\n",
       "  </tbody>\n",
       "</table>\n",
       "</div>"
      ],
      "text/plain": [
       "   RowNumber  CustomerId   Surname  CreditScore Geography  Gender  Age  \\\n",
       "0          1    15634602  Hargrave          619    France  Female   42   \n",
       "1          2    15647311      Hill          608     Spain  Female   41   \n",
       "2          3    15619304      Onio          502    France  Female   42   \n",
       "3          4    15701354      Boni          699    France  Female   39   \n",
       "4          5    15737888  Mitchell          850     Spain  Female   43   \n",
       "\n",
       "   Tenure    Balance  NumOfProducts  HasCrCard  IsActiveMember  \\\n",
       "0       2       0.00              1          1               1   \n",
       "1       1   83807.86              1          0               1   \n",
       "2       8  159660.80              3          1               0   \n",
       "3       1       0.00              2          0               0   \n",
       "4       2  125510.82              1          1               1   \n",
       "\n",
       "   EstimatedSalary  Exited  \n",
       "0        101348.88       1  \n",
       "1        112542.58       0  \n",
       "2        113931.57       1  \n",
       "3         93826.63       0  \n",
       "4         79084.10       0  "
      ]
     },
     "execution_count": 152,
     "metadata": {},
     "output_type": "execute_result"
    }
   ],
   "source": [
    "df = pd.read_csv('../content/Churn_Modelling.csv')\n",
    "df.head()"
   ]
  },
  {
   "cell_type": "code",
   "execution_count": 153,
   "metadata": {
    "colab": {
     "base_uri": "https://localhost:8080/"
    },
    "executionInfo": {
     "elapsed": 44,
     "status": "ok",
     "timestamp": 1740642237682,
     "user": {
      "displayName": "Terra Keeratinavanant",
      "userId": "00133216191144992865"
     },
     "user_tz": -420
    },
    "id": "r1CKQ0giJ7y_",
    "outputId": "3ba621f2-617b-4c1c-c63d-c397405e9d4b"
   },
   "outputs": [
    {
     "name": "stdout",
     "output_type": "stream",
     "text": [
      "<class 'pandas.core.frame.DataFrame'>\n",
      "RangeIndex: 10000 entries, 0 to 9999\n",
      "Data columns (total 14 columns):\n",
      " #   Column           Non-Null Count  Dtype  \n",
      "---  ------           --------------  -----  \n",
      " 0   RowNumber        10000 non-null  int64  \n",
      " 1   CustomerId       10000 non-null  int64  \n",
      " 2   Surname          10000 non-null  object \n",
      " 3   CreditScore      10000 non-null  int64  \n",
      " 4   Geography        10000 non-null  object \n",
      " 5   Gender           10000 non-null  object \n",
      " 6   Age              10000 non-null  int64  \n",
      " 7   Tenure           10000 non-null  int64  \n",
      " 8   Balance          10000 non-null  float64\n",
      " 9   NumOfProducts    10000 non-null  int64  \n",
      " 10  HasCrCard        10000 non-null  int64  \n",
      " 11  IsActiveMember   10000 non-null  int64  \n",
      " 12  EstimatedSalary  10000 non-null  float64\n",
      " 13  Exited           10000 non-null  int64  \n",
      "dtypes: float64(2), int64(9), object(3)\n",
      "memory usage: 1.1+ MB\n"
     ]
    }
   ],
   "source": [
    "df.info()"
   ]
  },
  {
   "cell_type": "code",
   "execution_count": 154,
   "metadata": {
    "colab": {
     "base_uri": "https://localhost:8080/"
    },
    "executionInfo": {
     "elapsed": 39,
     "status": "ok",
     "timestamp": 1740642237724,
     "user": {
      "displayName": "Terra Keeratinavanant",
      "userId": "00133216191144992865"
     },
     "user_tz": -420
    },
    "id": "N0s4084IKHqW",
    "outputId": "43a3a558-5bfc-4f97-b4e8-f59e93fd6f3d"
   },
   "outputs": [
    {
     "data": {
      "text/plain": [
       "np.int64(0)"
      ]
     },
     "execution_count": 154,
     "metadata": {},
     "output_type": "execute_result"
    }
   ],
   "source": [
    "df.duplicated().sum()"
   ]
  },
  {
   "cell_type": "code",
   "execution_count": 155,
   "metadata": {
    "colab": {
     "base_uri": "https://localhost:8080/",
     "height": 300
    },
    "executionInfo": {
     "elapsed": 250,
     "status": "ok",
     "timestamp": 1740642237976,
     "user": {
      "displayName": "Terra Keeratinavanant",
      "userId": "00133216191144992865"
     },
     "user_tz": -420
    },
    "id": "vtPsUd9jKLCV",
    "outputId": "4fcfc2b7-24d8-4a3b-eb5e-6bb0167245ea"
   },
   "outputs": [
    {
     "data": {
      "text/html": [
       "<div>\n",
       "<style scoped>\n",
       "    .dataframe tbody tr th:only-of-type {\n",
       "        vertical-align: middle;\n",
       "    }\n",
       "\n",
       "    .dataframe tbody tr th {\n",
       "        vertical-align: top;\n",
       "    }\n",
       "\n",
       "    .dataframe thead th {\n",
       "        text-align: right;\n",
       "    }\n",
       "</style>\n",
       "<table border=\"1\" class=\"dataframe\">\n",
       "  <thead>\n",
       "    <tr style=\"text-align: right;\">\n",
       "      <th></th>\n",
       "      <th>RowNumber</th>\n",
       "      <th>CustomerId</th>\n",
       "      <th>CreditScore</th>\n",
       "      <th>Age</th>\n",
       "      <th>Tenure</th>\n",
       "      <th>Balance</th>\n",
       "      <th>NumOfProducts</th>\n",
       "      <th>HasCrCard</th>\n",
       "      <th>IsActiveMember</th>\n",
       "      <th>EstimatedSalary</th>\n",
       "      <th>Exited</th>\n",
       "    </tr>\n",
       "  </thead>\n",
       "  <tbody>\n",
       "    <tr>\n",
       "      <th>count</th>\n",
       "      <td>10000.00000</td>\n",
       "      <td>1.000000e+04</td>\n",
       "      <td>10000.000000</td>\n",
       "      <td>10000.000000</td>\n",
       "      <td>10000.000000</td>\n",
       "      <td>10000.000000</td>\n",
       "      <td>10000.000000</td>\n",
       "      <td>10000.00000</td>\n",
       "      <td>10000.000000</td>\n",
       "      <td>10000.000000</td>\n",
       "      <td>10000.000000</td>\n",
       "    </tr>\n",
       "    <tr>\n",
       "      <th>mean</th>\n",
       "      <td>5000.50000</td>\n",
       "      <td>1.569094e+07</td>\n",
       "      <td>650.528800</td>\n",
       "      <td>38.921800</td>\n",
       "      <td>5.012800</td>\n",
       "      <td>76485.889288</td>\n",
       "      <td>1.530200</td>\n",
       "      <td>0.70550</td>\n",
       "      <td>0.515100</td>\n",
       "      <td>100090.239881</td>\n",
       "      <td>0.203700</td>\n",
       "    </tr>\n",
       "    <tr>\n",
       "      <th>std</th>\n",
       "      <td>2886.89568</td>\n",
       "      <td>7.193619e+04</td>\n",
       "      <td>96.653299</td>\n",
       "      <td>10.487806</td>\n",
       "      <td>2.892174</td>\n",
       "      <td>62397.405202</td>\n",
       "      <td>0.581654</td>\n",
       "      <td>0.45584</td>\n",
       "      <td>0.499797</td>\n",
       "      <td>57510.492818</td>\n",
       "      <td>0.402769</td>\n",
       "    </tr>\n",
       "    <tr>\n",
       "      <th>min</th>\n",
       "      <td>1.00000</td>\n",
       "      <td>1.556570e+07</td>\n",
       "      <td>350.000000</td>\n",
       "      <td>18.000000</td>\n",
       "      <td>0.000000</td>\n",
       "      <td>0.000000</td>\n",
       "      <td>1.000000</td>\n",
       "      <td>0.00000</td>\n",
       "      <td>0.000000</td>\n",
       "      <td>11.580000</td>\n",
       "      <td>0.000000</td>\n",
       "    </tr>\n",
       "    <tr>\n",
       "      <th>25%</th>\n",
       "      <td>2500.75000</td>\n",
       "      <td>1.562853e+07</td>\n",
       "      <td>584.000000</td>\n",
       "      <td>32.000000</td>\n",
       "      <td>3.000000</td>\n",
       "      <td>0.000000</td>\n",
       "      <td>1.000000</td>\n",
       "      <td>0.00000</td>\n",
       "      <td>0.000000</td>\n",
       "      <td>51002.110000</td>\n",
       "      <td>0.000000</td>\n",
       "    </tr>\n",
       "    <tr>\n",
       "      <th>50%</th>\n",
       "      <td>5000.50000</td>\n",
       "      <td>1.569074e+07</td>\n",
       "      <td>652.000000</td>\n",
       "      <td>37.000000</td>\n",
       "      <td>5.000000</td>\n",
       "      <td>97198.540000</td>\n",
       "      <td>1.000000</td>\n",
       "      <td>1.00000</td>\n",
       "      <td>1.000000</td>\n",
       "      <td>100193.915000</td>\n",
       "      <td>0.000000</td>\n",
       "    </tr>\n",
       "    <tr>\n",
       "      <th>75%</th>\n",
       "      <td>7500.25000</td>\n",
       "      <td>1.575323e+07</td>\n",
       "      <td>718.000000</td>\n",
       "      <td>44.000000</td>\n",
       "      <td>7.000000</td>\n",
       "      <td>127644.240000</td>\n",
       "      <td>2.000000</td>\n",
       "      <td>1.00000</td>\n",
       "      <td>1.000000</td>\n",
       "      <td>149388.247500</td>\n",
       "      <td>0.000000</td>\n",
       "    </tr>\n",
       "    <tr>\n",
       "      <th>max</th>\n",
       "      <td>10000.00000</td>\n",
       "      <td>1.581569e+07</td>\n",
       "      <td>850.000000</td>\n",
       "      <td>92.000000</td>\n",
       "      <td>10.000000</td>\n",
       "      <td>250898.090000</td>\n",
       "      <td>4.000000</td>\n",
       "      <td>1.00000</td>\n",
       "      <td>1.000000</td>\n",
       "      <td>199992.480000</td>\n",
       "      <td>1.000000</td>\n",
       "    </tr>\n",
       "  </tbody>\n",
       "</table>\n",
       "</div>"
      ],
      "text/plain": [
       "         RowNumber    CustomerId   CreditScore           Age        Tenure  \\\n",
       "count  10000.00000  1.000000e+04  10000.000000  10000.000000  10000.000000   \n",
       "mean    5000.50000  1.569094e+07    650.528800     38.921800      5.012800   \n",
       "std     2886.89568  7.193619e+04     96.653299     10.487806      2.892174   \n",
       "min        1.00000  1.556570e+07    350.000000     18.000000      0.000000   \n",
       "25%     2500.75000  1.562853e+07    584.000000     32.000000      3.000000   \n",
       "50%     5000.50000  1.569074e+07    652.000000     37.000000      5.000000   \n",
       "75%     7500.25000  1.575323e+07    718.000000     44.000000      7.000000   \n",
       "max    10000.00000  1.581569e+07    850.000000     92.000000     10.000000   \n",
       "\n",
       "             Balance  NumOfProducts    HasCrCard  IsActiveMember  \\\n",
       "count   10000.000000   10000.000000  10000.00000    10000.000000   \n",
       "mean    76485.889288       1.530200      0.70550        0.515100   \n",
       "std     62397.405202       0.581654      0.45584        0.499797   \n",
       "min         0.000000       1.000000      0.00000        0.000000   \n",
       "25%         0.000000       1.000000      0.00000        0.000000   \n",
       "50%     97198.540000       1.000000      1.00000        1.000000   \n",
       "75%    127644.240000       2.000000      1.00000        1.000000   \n",
       "max    250898.090000       4.000000      1.00000        1.000000   \n",
       "\n",
       "       EstimatedSalary        Exited  \n",
       "count     10000.000000  10000.000000  \n",
       "mean     100090.239881      0.203700  \n",
       "std       57510.492818      0.402769  \n",
       "min          11.580000      0.000000  \n",
       "25%       51002.110000      0.000000  \n",
       "50%      100193.915000      0.000000  \n",
       "75%      149388.247500      0.000000  \n",
       "max      199992.480000      1.000000  "
      ]
     },
     "execution_count": 155,
     "metadata": {},
     "output_type": "execute_result"
    }
   ],
   "source": [
    "df.describe()"
   ]
  },
  {
   "cell_type": "code",
   "execution_count": 156,
   "metadata": {
    "colab": {
     "base_uri": "https://localhost:8080/",
     "height": 53
    },
    "executionInfo": {
     "elapsed": 206,
     "status": "ok",
     "timestamp": 1740642238184,
     "user": {
      "displayName": "Terra Keeratinavanant",
      "userId": "00133216191144992865"
     },
     "user_tz": -420
    },
    "id": "ZGV8JS6yKPlS",
    "outputId": "9042ab22-b057-40ef-f6d4-22d2803d7f81"
   },
   "outputs": [
    {
     "data": {
      "text/html": [
       "<div>\n",
       "<style scoped>\n",
       "    .dataframe tbody tr th:only-of-type {\n",
       "        vertical-align: middle;\n",
       "    }\n",
       "\n",
       "    .dataframe tbody tr th {\n",
       "        vertical-align: top;\n",
       "    }\n",
       "\n",
       "    .dataframe thead th {\n",
       "        text-align: right;\n",
       "    }\n",
       "</style>\n",
       "<table border=\"1\" class=\"dataframe\">\n",
       "  <thead>\n",
       "    <tr style=\"text-align: right;\">\n",
       "      <th></th>\n",
       "      <th>RowNumber</th>\n",
       "      <th>CustomerId</th>\n",
       "      <th>Surname</th>\n",
       "      <th>CreditScore</th>\n",
       "      <th>Geography</th>\n",
       "      <th>Gender</th>\n",
       "      <th>Age</th>\n",
       "      <th>Tenure</th>\n",
       "      <th>Balance</th>\n",
       "      <th>NumOfProducts</th>\n",
       "      <th>HasCrCard</th>\n",
       "      <th>IsActiveMember</th>\n",
       "      <th>EstimatedSalary</th>\n",
       "      <th>Exited</th>\n",
       "    </tr>\n",
       "  </thead>\n",
       "  <tbody>\n",
       "  </tbody>\n",
       "</table>\n",
       "</div>"
      ],
      "text/plain": [
       "Empty DataFrame\n",
       "Columns: [RowNumber, CustomerId, Surname, CreditScore, Geography, Gender, Age, Tenure, Balance, NumOfProducts, HasCrCard, IsActiveMember, EstimatedSalary, Exited]\n",
       "Index: []"
      ]
     },
     "execution_count": 156,
     "metadata": {},
     "output_type": "execute_result"
    }
   ],
   "source": [
    "df[(df['Exited'] != 0)&(df['Exited']!=1)]"
   ]
  },
  {
   "cell_type": "code",
   "execution_count": 157,
   "metadata": {
    "colab": {
     "base_uri": "https://localhost:8080/",
     "height": 178
    },
    "executionInfo": {
     "elapsed": 10,
     "status": "ok",
     "timestamp": 1740642238197,
     "user": {
      "displayName": "Terra Keeratinavanant",
      "userId": "00133216191144992865"
     },
     "user_tz": -420
    },
    "id": "wdtFzt2XKboD",
    "outputId": "d513de83-db79-4a8f-8e0b-dbf540885871"
   },
   "outputs": [
    {
     "data": {
      "text/plain": [
       "Exited\n",
       "0    7963\n",
       "1    2037\n",
       "Name: count, dtype: int64"
      ]
     },
     "execution_count": 157,
     "metadata": {},
     "output_type": "execute_result"
    }
   ],
   "source": [
    "df['Exited'].value_counts()"
   ]
  },
  {
   "cell_type": "markdown",
   "metadata": {
    "id": "Aca9AbVnKkWh"
   },
   "source": [
    "Thus, this is an unbalanced dataset. Next, I will drop unrelated features"
   ]
  },
  {
   "cell_type": "markdown",
   "metadata": {},
   "source": [
    "### Split Data"
   ]
  },
  {
   "cell_type": "code",
   "execution_count": 158,
   "metadata": {
    "executionInfo": {
     "elapsed": 75,
     "status": "ok",
     "timestamp": 1740642527629,
     "user": {
      "displayName": "Terra Keeratinavanant",
      "userId": "00133216191144992865"
     },
     "user_tz": -420
    },
    "id": "1mhH6kgxKnKU"
   },
   "outputs": [],
   "source": [
    "X = df.drop(columns = ['Surname', 'Exited', 'CustomerId', 'RowNumber'])\n",
    "y = df['Exited']\n",
    "\n",
    "X_encoded = pd.get_dummies(X, drop_first=True, dtype=float)\n",
    "\n",
    "X_train, X_test, y_train, y_test = train_test_split(X_encoded, y, test_size = 0.3, random_state = 42, stratify = y)"
   ]
  },
  {
   "cell_type": "markdown",
   "metadata": {},
   "source": [
    "### Scaling"
   ]
  },
  {
   "cell_type": "code",
   "execution_count": 159,
   "metadata": {},
   "outputs": [],
   "source": [
    "scaler = StandardScaler()\n",
    "X_train_scaled = scaler.fit_transform(X_train)\n",
    "X_test_scaled = scaler.transform(X_test)"
   ]
  },
  {
   "cell_type": "markdown",
   "metadata": {},
   "source": [
    "### Resampling using SMOTE (Synthetic Minority Over-sampling Technique)"
   ]
  },
  {
   "cell_type": "code",
   "execution_count": 174,
   "metadata": {},
   "outputs": [],
   "source": [
    "smote = SMOTE(sampling_strategy='auto', random_state=42)\n",
    "X_resampled, y_resampled = smote.fit_resample(X_train_scaled, y_train)"
   ]
  },
  {
   "cell_type": "markdown",
   "metadata": {},
   "source": [
    "## Data Prediction"
   ]
  },
  {
   "cell_type": "code",
   "execution_count": 175,
   "metadata": {
    "executionInfo": {
     "elapsed": 37,
     "status": "ok",
     "timestamp": 1740642532814,
     "user": {
      "displayName": "Terra Keeratinavanant",
      "userId": "00133216191144992865"
     },
     "user_tz": -420
    },
    "id": "T7qCVVqROEjI"
   },
   "outputs": [],
   "source": [
    "features = torch.tensor(X_resampled).float()\n",
    "target = torch.tensor(y_resampled.to_numpy()).float()\n",
    "\n",
    "dataset = TensorDataset(features, target)\n",
    "train_size = int(0.8 * len(dataset))  # 80% for training\n",
    "val_size = len(dataset) - train_size  # 20% for validation\n",
    "\n",
    "train_dataset, val_dataset = random_split(dataset, [train_size, val_size])\n",
    "train_loader = DataLoader(train_dataset, batch_size=32, shuffle = True)\n",
    "val_loader = DataLoader(val_dataset, batch_size=32, shuffle = True)"
   ]
  },
  {
   "cell_type": "code",
   "execution_count": 176,
   "metadata": {
    "executionInfo": {
     "elapsed": 7,
     "status": "ok",
     "timestamp": 1740642576508,
     "user": {
      "displayName": "Terra Keeratinavanant",
      "userId": "00133216191144992865"
     },
     "user_tz": -420
    },
    "id": "qvQ6DOvmPULz"
   },
   "outputs": [],
   "source": [
    "class NeuralNetwork(nn.Module):\n",
    "    def __init__(self, input_dim):\n",
    "        super(NeuralNetwork, self).__init__()\n",
    "\n",
    "        # Define layers\n",
    "        self.layer1 = nn.Linear(input_dim, 10)\n",
    "        self.layer2 = nn.Linear(10, 10)\n",
    "        self.layer3 = nn.Linear(10, 10)\n",
    "        self.layer4 = nn.Linear(10, 10)\n",
    "        self.layer5 = nn.Linear(10, 10)\n",
    "        self.layer6 = nn.Linear(10, 10)\n",
    "        self.output = nn.Linear(10, 2) \n",
    "        self.sigmoid = nn.Sigmoid()\n",
    "    \n",
    "    def forward(self, x):\n",
    "        # Pass the input through each layer with ReLU activation\n",
    "        x = torch.relu(self.layer1(x))\n",
    "        x = torch.relu(self.layer2(x))\n",
    "        x = torch.relu(self.layer3(x))\n",
    "        x = torch.relu(self.layer4(x))\n",
    "        x = torch.relu(self.layer5(x))\n",
    "        x = torch.relu(self.layer6(x))\n",
    "        \n",
    "        # Pass through output layer and apply sigmoid activation\n",
    "        x = self.sigmoid(self.output(x))\n",
    "        return x\n",
    "    \n",
    "input_dim = X_train.shape[1]\n",
    "model = NeuralNetwork(input_dim)"
   ]
  },
  {
   "cell_type": "code",
   "execution_count": 177,
   "metadata": {},
   "outputs": [],
   "source": [
    "criterion = nn.CrossEntropyLoss()\n",
    "optimizer = optim.Adam(model.parameters(), lr=0.0005)"
   ]
  },
  {
   "cell_type": "code",
   "execution_count": 178,
   "metadata": {
    "executionInfo": {
     "elapsed": 7,
     "status": "ok",
     "timestamp": 1740642578045,
     "user": {
      "displayName": "Terra Keeratinavanant",
      "userId": "00133216191144992865"
     },
     "user_tz": -420
    },
    "id": "W035uHTWQH0u"
   },
   "outputs": [],
   "source": [
    "# Early stopping parameters\n",
    "patience = 5 # Number of epochs to wait before stopping\n",
    "min_val_loss = float('inf') # Initialize with a very high value\n",
    "count = 0 # Tracks how many epochs the val_loss hasn't improved\n",
    "best_model_state = None\n",
    "\n",
    "# epoch\n",
    "num_epochs = 50\n",
    "train_loss = []\n",
    "val_loss = []"
   ]
  },
  {
   "cell_type": "code",
   "execution_count": 179,
   "metadata": {
    "colab": {
     "base_uri": "https://localhost:8080/"
    },
    "executionInfo": {
     "elapsed": 5811,
     "status": "ok",
     "timestamp": 1740642585485,
     "user": {
      "displayName": "Terra Keeratinavanant",
      "userId": "00133216191144992865"
     },
     "user_tz": -420
    },
    "id": "U4dOHd4oPgVu",
    "outputId": "a6b07003-7b56-4e4d-9dec-1437063c1770"
   },
   "outputs": [
    {
     "name": "stdout",
     "output_type": "stream",
     "text": [
      "Epoch 1/50 - Train Loss: 0.6929, Val Loss: 0.6908\n",
      "Epoch 2/50 - Train Loss: 0.6472, Val Loss: 0.5855\n",
      "Epoch 3/50 - Train Loss: 0.5552, Val Loss: 0.5410\n",
      "Epoch 4/50 - Train Loss: 0.5369, Val Loss: 0.5347\n",
      "Epoch 5/50 - Train Loss: 0.5321, Val Loss: 0.5322\n",
      "Epoch 6/50 - Train Loss: 0.5296, Val Loss: 0.5294\n",
      "Epoch 7/50 - Train Loss: 0.5273, Val Loss: 0.5271\n",
      "Epoch 8/50 - Train Loss: 0.5257, Val Loss: 0.5263\n",
      "Epoch 9/50 - Train Loss: 0.5246, Val Loss: 0.5268\n",
      "Epoch 10/50 - Train Loss: 0.5223, Val Loss: 0.5294\n",
      "Epoch 11/50 - Train Loss: 0.5218, Val Loss: 0.5244\n",
      "Epoch 12/50 - Train Loss: 0.5206, Val Loss: 0.5237\n",
      "Epoch 13/50 - Train Loss: 0.5196, Val Loss: 0.5227\n",
      "Epoch 14/50 - Train Loss: 0.5174, Val Loss: 0.5226\n",
      "Epoch 15/50 - Train Loss: 0.5163, Val Loss: 0.5264\n",
      "Epoch 16/50 - Train Loss: 0.5161, Val Loss: 0.5218\n",
      "Epoch 17/50 - Train Loss: 0.5135, Val Loss: 0.5210\n",
      "Epoch 18/50 - Train Loss: 0.5117, Val Loss: 0.5238\n",
      "Epoch 19/50 - Train Loss: 0.5110, Val Loss: 0.5226\n",
      "Epoch 20/50 - Train Loss: 0.5098, Val Loss: 0.5210\n",
      "Epoch 21/50 - Train Loss: 0.5091, Val Loss: 0.5205\n",
      "Epoch 22/50 - Train Loss: 0.5079, Val Loss: 0.5211\n",
      "Epoch 23/50 - Train Loss: 0.5072, Val Loss: 0.5223\n",
      "Epoch 24/50 - Train Loss: 0.5058, Val Loss: 0.5160\n",
      "Epoch 25/50 - Train Loss: 0.5048, Val Loss: 0.5158\n",
      "Epoch 26/50 - Train Loss: 0.5049, Val Loss: 0.5162\n",
      "Epoch 27/50 - Train Loss: 0.5039, Val Loss: 0.5162\n",
      "Epoch 28/50 - Train Loss: 0.5040, Val Loss: 0.5166\n",
      "Epoch 29/50 - Train Loss: 0.5028, Val Loss: 0.5156\n",
      "Epoch 30/50 - Train Loss: 0.5029, Val Loss: 0.5167\n",
      "Epoch 31/50 - Train Loss: 0.5022, Val Loss: 0.5165\n",
      "Epoch 32/50 - Train Loss: 0.5021, Val Loss: 0.5154\n",
      "Epoch 33/50 - Train Loss: 0.5012, Val Loss: 0.5160\n",
      "Epoch 34/50 - Train Loss: 0.5010, Val Loss: 0.5154\n",
      "Epoch 35/50 - Train Loss: 0.5011, Val Loss: 0.5145\n",
      "Epoch 36/50 - Train Loss: 0.5002, Val Loss: 0.5147\n",
      "Epoch 37/50 - Train Loss: 0.5001, Val Loss: 0.5172\n",
      "Epoch 38/50 - Train Loss: 0.5007, Val Loss: 0.5155\n",
      "Epoch 39/50 - Train Loss: 0.5002, Val Loss: 0.5162\n",
      "Epoch 40/50 - Train Loss: 0.4995, Val Loss: 0.5158\n",
      "Early stopping triggered at epoch 41. Best Val Loss: 0.5145\n",
      "None\n"
     ]
    },
    {
     "data": {
      "text/plain": [
       "NeuralNetwork(\n",
       "  (layer1): Linear(in_features=11, out_features=10, bias=True)\n",
       "  (layer2): Linear(in_features=10, out_features=10, bias=True)\n",
       "  (layer3): Linear(in_features=10, out_features=10, bias=True)\n",
       "  (layer4): Linear(in_features=10, out_features=10, bias=True)\n",
       "  (layer5): Linear(in_features=10, out_features=10, bias=True)\n",
       "  (layer6): Linear(in_features=10, out_features=10, bias=True)\n",
       "  (output): Linear(in_features=10, out_features=2, bias=True)\n",
       "  (sigmoid): Sigmoid()\n",
       ")"
      ]
     },
     "execution_count": 179,
     "metadata": {},
     "output_type": "execute_result"
    }
   ],
   "source": [
    "for epoch in range(num_epochs):\n",
    "    model.train()\n",
    "    training_loss = 0.0\n",
    "\n",
    "    for data in train_loader:\n",
    "        # Set the gradients to zero\n",
    "        optimizer.zero_grad()\n",
    "        feature, target = data\n",
    "        pred = model(feature)\n",
    "        \n",
    "        loss = criterion(pred, target.long())\n",
    "        loss.backward()\n",
    "        optimizer.step()\n",
    "\n",
    "        training_loss += loss.item()\n",
    "\n",
    "    epoch_train_loss = training_loss / len(train_loader)\n",
    "    train_loss.append(epoch_train_loss)\n",
    "\n",
    "    # Validation Phase\n",
    "    model.eval()\n",
    "    validation_loss = 0.0\n",
    "\n",
    "    with torch.no_grad():\n",
    "        for data in val_loader:\n",
    "            feature, target = data\n",
    "            pred = model(feature)\n",
    "\n",
    "            loss = criterion(pred, target.long())\n",
    "            validation_loss += loss.item()\n",
    "\n",
    "    epoch_val_loss = validation_loss / len(val_loader)\n",
    "    val_loss.append(epoch_val_loss)\n",
    "\n",
    "    print(f\"Epoch {epoch+1}/{num_epochs} - Train Loss: {epoch_train_loss:.4f}, Val Loss: {epoch_val_loss:.4f}\")\n",
    "\n",
    "    # Early Stopping check\n",
    "    if epoch_val_loss < min_val_loss:\n",
    "      min_val_loss = epoch_val_loss\n",
    "      count = 0\n",
    "\n",
    "      # Store the best model so the model will not keep the last-trained weights instead of the best-performing ones\n",
    "      best_model_state = model.state_dict()\n",
    "    else:\n",
    "      count += 1\n",
    "      if count >= patience:\n",
    "        epoch = epoch + 1 # assign variable for plotting\n",
    "        print(print(f\"Early stopping triggered at epoch {epoch+1}. Best Val Loss: {min_val_loss:.4f}\"))\n",
    "        break\n",
    "\n",
    "model.train()"
   ]
  },
  {
   "cell_type": "code",
   "execution_count": 180,
   "metadata": {},
   "outputs": [
    {
     "data": {
      "image/png": "[encoded data removed]",
      "text/plain": [
       "<Figure size 640x480 with 1 Axes>"
      ]
     },
     "metadata": {},
     "output_type": "display_data"
    }
   ],
   "source": [
    "mean_train_loss = sum(train_loss) / len(train_loss)\n",
    "mean_val_loss = sum(val_loss) / len(val_loss)\n",
    "\n",
    "# Plot the Loss Curve\n",
    "if num_epochs > epoch:\n",
    "    range_epoch = epoch\n",
    "else: range_epoch = num_epochs\n",
    "\n",
    "plt.plot(range(1, range_epoch + 1), train_loss, label=f'Training Loss (Mean: {mean_train_loss:.4f})', marker='o')\n",
    "plt.plot(range(1, range_epoch + 1), val_loss, label=f'Validation Loss (Mean: {mean_val_loss:.4f})', marker='s')\n",
    "\n",
    "plt.xlabel('Epochs')\n",
    "plt.ylabel('Loss')\n",
    "plt.title('Training & Validation Loss Over Epochs')\n",
    "plt.legend()\n",
    "plt.grid()\n",
    "plt.show()"
   ]
  },
  {
   "cell_type": "code",
   "execution_count": 181,
   "metadata": {
    "executionInfo": {
     "elapsed": 36,
     "status": "ok",
     "timestamp": 1740642589463,
     "user": {
      "displayName": "Terra Keeratinavanant",
      "userId": "00133216191144992865"
     },
     "user_tz": -420
    },
    "id": "JK9zEAm2Vl4-"
   },
   "outputs": [],
   "source": [
    "if best_model_state:\n",
    "    model.load_state_dict(best_model_state)"
   ]
  },
  {
   "cell_type": "code",
   "execution_count": 182,
   "metadata": {
    "executionInfo": {
     "elapsed": 9,
     "status": "ok",
     "timestamp": 1740642590743,
     "user": {
      "displayName": "Terra Keeratinavanant",
      "userId": "00133216191144992865"
     },
     "user_tz": -420
    },
    "id": "Fajmp4AVSVOR"
   },
   "outputs": [],
   "source": [
    "features_test = torch.tensor(X_test_scaled).float()\n",
    "target_test = torch.tensor(y_test.to_numpy()).float()\n",
    "\n",
    "test_dataset = TensorDataset(features_test, target_test)\n",
    "test_loader = DataLoader(test_dataset, batch_size = 32, shuffle = True)"
   ]
  },
  {
   "cell_type": "code",
   "execution_count": 183,
   "metadata": {
    "colab": {
     "base_uri": "https://localhost:8080/"
    },
    "executionInfo": {
     "elapsed": 26,
     "status": "ok",
     "timestamp": 1740642592921,
     "user": {
      "displayName": "Terra Keeratinavanant",
      "userId": "00133216191144992865"
     },
     "user_tz": -420
    },
    "id": "g_aJiR79SdGs",
    "outputId": "e556c10d-6c47-4b62-fd48-c5bd90f3ef60"
   },
   "outputs": [
    {
     "name": "stdout",
     "output_type": "stream",
     "text": [
      "Testing Loss: 0.5174\n"
     ]
    }
   ],
   "source": [
    "model.eval()\n",
    "\n",
    "testing_loss = 0.0\n",
    "correct = 0\n",
    "total = 0\n",
    "all_preds = []\n",
    "all_targets = []\n",
    "all_probs = []\n",
    "\n",
    "with torch.no_grad():\n",
    "    for data in test_loader:\n",
    "        feature, target = data\n",
    "        pred = model(feature)\n",
    "\n",
    "        loss = criterion(pred, target.long())\n",
    "        testing_loss += loss.item()\n",
    "\n",
    "        # Compute for Confusion Matrix and Classification report\n",
    "        _, predicted = torch.max(pred, 1) # Get class with highest probability\n",
    "        correct += (predicted == target).sum().item()\n",
    "        total += target.size(0)\n",
    "\n",
    "        # Store results for Confusion Matrix\n",
    "        all_preds.extend(predicted.cpu().numpy())\n",
    "        all_targets.extend(target.cpu().numpy())\n",
    "\n",
    "        # Store probabilities for Precision-Recall Curve\n",
    "        probs = torch.softmax(pred, dim=1)  # Get probabilities\n",
    "        probs = probs[:, 1]  # use the positive class\n",
    "        all_probs.extend(probs.cpu().numpy())\n",
    "\n",
    "average_test_loss = testing_loss / len(test_loader)\n",
    "print(f'Testing Loss: {average_test_loss:.4f}')"
   ]
  },
  {
   "cell_type": "code",
   "execution_count": 184,
   "metadata": {
    "colab": {
     "base_uri": "https://localhost:8080/",
     "height": 472
    },
    "executionInfo": {
     "elapsed": 305,
     "status": "ok",
     "timestamp": 1740642595393,
     "user": {
      "displayName": "Terra Keeratinavanant",
      "userId": "00133216191144992865"
     },
     "user_tz": -420
    },
    "id": "AIYg5KwBV1m-",
    "outputId": "6d34b51d-c52c-4169-e015-80f4c815cc41"
   },
   "outputs": [
    {
     "data": {
      "image/png": "[encoded data removed]",
      "text/plain": [
       "<Figure size 640x480 with 2 Axes>"
      ]
     },
     "metadata": {},
     "output_type": "display_data"
    }
   ],
   "source": [
    "conf_matrix = confusion_matrix(all_targets, all_preds)\n",
    "\n",
    "sns.heatmap(conf_matrix, annot=True, fmt=\"d\", cmap=\"Blues\")\n",
    "plt.xlabel(\"Predicted Labels\")\n",
    "plt.ylabel(\"True Labels\")\n",
    "plt.title(\"Confusion Matrix\")\n",
    "plt.show()"
   ]
  },
  {
   "cell_type": "code",
   "execution_count": 185,
   "metadata": {
    "colab": {
     "base_uri": "https://localhost:8080/"
    },
    "executionInfo": {
     "elapsed": 31,
     "status": "ok",
     "timestamp": 1740642604692,
     "user": {
      "displayName": "Terra Keeratinavanant",
      "userId": "00133216191144992865"
     },
     "user_tz": -420
    },
    "id": "1hkG71iHWYWS",
    "outputId": "56c687f7-7050-4ca4-cbb7-cfdf7fb26029"
   },
   "outputs": [
    {
     "name": "stdout",
     "output_type": "stream",
     "text": [
      "              precision    recall  f1-score   support\n",
      "\n",
      "         0.0       0.92      0.80      0.86      2389\n",
      "         1.0       0.49      0.74      0.59       611\n",
      "\n",
      "    accuracy                           0.79      3000\n",
      "   macro avg       0.70      0.77      0.72      3000\n",
      "weighted avg       0.83      0.79      0.80      3000\n",
      "\n"
     ]
    }
   ],
   "source": [
    "class_report = classification_report(all_targets, all_preds)\n",
    "print(class_report)"
   ]
  },
  {
   "cell_type": "code",
   "execution_count": 186,
   "metadata": {},
   "outputs": [
    {
     "name": "stdout",
     "output_type": "stream",
     "text": [
      "Area Under the Precision-Recall Curve (PR AUC): 0.6391\n"
     ]
    }
   ],
   "source": [
    "precision, recall, thresholds = precision_recall_curve(all_targets, all_probs)\n",
    "pr_auc = auc(recall, precision)\n",
    "print(f'Area Under the Precision-Recall Curve (PR AUC): {pr_auc:.4f}')"
   ]
  },
  {
   "cell_type": "code",
   "execution_count": 187,
   "metadata": {},
   "outputs": [
    {
     "data": {
      "image/png": "[encoded data removed]",
      "text/plain": [
       "<Figure size 640x480 with 1 Axes>"
      ]
     },
     "metadata": {},
     "output_type": "display_data"
    }
   ],
   "source": [
    "plt.plot(recall, precision, color = 'skyblue', label='PR-AUC curve (area = {:.2f})'.format(pr_auc))\n",
    "plt.plot([1, 0], [0, 1], color='gray', linestyle='--') # random classifier line\n",
    "plt.xlim([0.0, 1.0]) # set the limits of the x-axis\n",
    "plt.ylim([0.0, 1.0])\n",
    "plt.xlabel('Recall')\n",
    "plt.ylabel('Precision')\n",
    "plt.title('Precision-Recall Curve')\n",
    "plt.legend(loc='lower right')\n",
    "plt.grid()\n",
    "plt.show()"
   ]
  }
 ],
 "metadata": {
  "colab": {
   "authorship_tag": "ABX9TyMV+nJa33+u/YTo+kyUd6/6",
   "provenance": []
  },
  "kernelspec": {
   "display_name": "Python 3",
   "name": "python3"
  },
  "language_info": {
   "codemirror_mode": {
    "name": "ipython",
    "version": 3
   },
   "file_extension": ".py",
   "mimetype": "text/x-python",
   "name": "python",
   "nbconvert_exporter": "python",
   "pygments_lexer": "ipython3",
   "version": "3.12.9"
  }
 },
 "nbformat": 4,
 "nbformat_minor": 0
}
